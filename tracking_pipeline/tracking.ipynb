{
 "cells": [
  {
   "cell_type": "code",
   "execution_count": 1,
   "id": "b6b81ec5",
   "metadata": {},
   "outputs": [],
   "source": [
    "from pathlib import Path\n",
    "import pandas as pd\n",
    "import os\n",
    "import random\n",
    "import shutil\n",
    "import glob\n",
    "from ultralytics import YOLO\n",
    "import mlflow \n",
    "from mlflow.tracking import MlflowClient \n",
    "from mlflow.models.signature import ModelSignature \n",
    "from mlflow.types.schema import Schema, TensorSpec\n",
    "import numpy as np\n"
   ]
  },
  {
   "cell_type": "code",
   "execution_count": 2,
   "id": "fad29bd1",
   "metadata": {},
   "outputs": [
    {
     "data": {
      "text/plain": [
       "'/home/meth/code/mlopsfin'"
      ]
     },
     "execution_count": 2,
     "metadata": {},
     "output_type": "execute_result"
    }
   ],
   "source": [
    "BASE_DIR = str(Path(os.getcwd()).parent)\n",
    "BASE_DIR"
   ]
  },
  {
   "cell_type": "code",
   "execution_count": 3,
   "id": "39effe69",
   "metadata": {},
   "outputs": [
    {
     "data": {
      "text/plain": [
       "'/home/meth/code/mlopsfin/tracking_pipeline'"
      ]
     },
     "execution_count": 3,
     "metadata": {},
     "output_type": "execute_result"
    }
   ],
   "source": [
    "os.getcwd()"
   ]
  },
  {
   "cell_type": "code",
   "execution_count": 4,
   "id": "1a3ca444",
   "metadata": {},
   "outputs": [],
   "source": [
    "data_dir = os.path.join(BASE_DIR, \"data_pipeline/traindata/data\")\n",
    "labels_csv = os.path.join(BASE_DIR, \"data_pipeline/traindata/vehicle_labels.csv\")\n",
    "labels_dir = os.path.join(BASE_DIR, \"tracking_pipeline/labels\")\n",
    "dataset_dir = os.path.join(BASE_DIR, \"tracking_pipeline/dataset\")\n",
    "os.makedirs(labels_dir, exist_ok=True)\n",
    "os.makedirs(f\"{dataset_dir}/images/train\", exist_ok=True)\n",
    "os.makedirs(f\"{dataset_dir}/images/val\", exist_ok=True)\n",
    "os.makedirs(f\"{dataset_dir}/labels/train\", exist_ok=True)\n",
    "os.makedirs(f\"{dataset_dir}/labels/val\", exist_ok=True)"
   ]
  },
  {
   "cell_type": "code",
   "execution_count": 5,
   "id": "f125618f",
   "metadata": {},
   "outputs": [],
   "source": [
    "#Class mapping \n",
    "class_mapping = {\n",
    "    'Car': 0,\n",
    "    'Taxi': 1,\n",
    "    'Truck': 2,\n",
    "    'Bus': 3 \n",
    "}\n",
    "\n",
    "labels = pd.read_csv(labels_csv)\n",
    "\n",
    "# Removeduplicate labels\n",
    "labels = labels.drop_duplicates(subset=['ImageID', 'LabelName_Text', 'XMin', 'YMin', 'XMax', 'YMax'])\n",
    "\n",
    "# Changing to YOLO format\n",
    "for image_id in labels['ImageID'].unique():\n",
    "    image_labels = labels[labels['ImageID'] == image_id]\n",
    "    output_file = os.path.join(labels_dir, f\"{image_id}.txt\")\n",
    "    with open(output_file, 'w') as f:\n",
    "        for _, row in image_labels.iterrows():\n",
    "            class_name = row['LabelName_Text']\n",
    "            if class_name in class_mapping:\n",
    "                class_id = class_mapping[class_name]\n",
    "                x_min = row['XMin']\n",
    "                x_max = row['XMax']\n",
    "                y_min = row['YMin']\n",
    "                y_max = row['YMax']\n",
    "                x_center = (x_min + x_max) / 2\n",
    "                y_center = (y_min + y_max) / 2\n",
    "                width = x_max - x_min\n",
    "                height = y_max - y_min\n",
    "                f.write(f\"{class_id} {x_center} {y_center} {width} {height}\\n\")"
   ]
  },
  {
   "cell_type": "code",
   "execution_count": 6,
   "id": "de2dbbbb",
   "metadata": {},
   "outputs": [],
   "source": [
    "# Get list of images that have labels\n",
    "images_with_labels = []\n",
    "for img in os.listdir(data_dir):\n",
    "    if not img.endswith(\".jpg\"):\n",
    "        continue\n",
    "    lbl = os.path.join(labels_dir, img.replace(\".jpg\", \".txt\"))\n",
    "    if os.path.exists(lbl) and os.path.getsize(lbl) > 0:  # Only keep images that have labels\n",
    "        images_with_labels.append(img)\n",
    "\n",
    "random.seed(1610)\n",
    "\n",
    "# Split into train/val (90% train, 10% val)\n",
    "train_imgs = random.sample(images_with_labels, int(0.9 * len(images_with_labels)))\n",
    "val_imgs = [img for img in images_with_labels if img not in train_imgs]\n",
    "\n",
    "# Copy images and labels to train directory\n",
    "for img in train_imgs:\n",
    "    shutil.copy(os.path.join(data_dir, img), f\"{dataset_dir}/images/train/{img}\")\n",
    "    lbl = img.replace(\".jpg\", \".txt\")\n",
    "    shutil.copy(os.path.join(labels_dir, lbl), f\"{dataset_dir}/labels/train/{lbl}\")\n",
    "\n",
    "# Copy images and labels to val directory\n",
    "for img in val_imgs:\n",
    "    shutil.copy(os.path.join(data_dir, img), f\"{dataset_dir}/images/val/{img}\")\n",
    "    lbl = img.replace(\".jpg\", \".txt\")\n",
    "    shutil.copy(os.path.join(labels_dir, lbl), f\"{dataset_dir}/labels/val/{lbl}\")\n"
   ]
  },
  {
   "cell_type": "code",
   "execution_count": 7,
   "id": "65d48a01",
   "metadata": {},
   "outputs": [
    {
     "name": "stdout",
     "output_type": "stream",
     "text": [
      "Class distribution in the cleaned full dataset:\n",
      "Train:\n",
      "Car: 5113 instances\n",
      "Taxi: 3056 instances\n",
      "Truck: 1502 instances\n",
      "Bus: 1801 instances\n",
      "Number of training images: 3600\n",
      "Number of validation images: 400\n",
      "\n",
      "No invalid class_id found.\n"
     ]
    }
   ],
   "source": [
    "# Check class distribution\n",
    "class_counts = {i: 0 for i in range(len(class_mapping))}\n",
    "invalid_files = []\n",
    "for label_file in glob.glob(f\"{dataset_dir}/labels/*/*.txt\"):\n",
    "    with open(label_file, \"r\") as f:\n",
    "        for line in f:\n",
    "            if line.strip():\n",
    "                class_id = int(line.split()[0])\n",
    "                if class_id in class_counts:\n",
    "                    class_counts[class_id] += 1\n",
    "                else:\n",
    "                    invalid_files.append((label_file, class_id))\n",
    "\n",
    "class_names = list(class_mapping.keys())\n",
    "print(\"Class distribution in the cleaned full dataset:\")\n",
    "print(\"Train:\")\n",
    "for i in range(len(class_names)):\n",
    "    print(f\"{class_names[i]}: {class_counts[i]} instances\")\n",
    "print(f\"Number of training images: {len(train_imgs)}\")\n",
    "print(f\"Number of validation images: {len(val_imgs)}\")\n",
    "\n",
    "if invalid_files:\n",
    "    print(\"\\nFiles containing invalid class_id:\")\n",
    "    for file, class_id in invalid_files:\n",
    "        print(f\"File: {file}, class_id: {class_id}\")\n",
    "else:\n",
    "    print(\"\\nNo invalid class_id found.\")\n"
   ]
  },
  {
   "cell_type": "code",
   "execution_count": 8,
   "id": "7cedc0d3",
   "metadata": {},
   "outputs": [
    {
     "name": "stdout",
     "output_type": "stream",
     "text": [
      "Created data.yaml with 4 classes and augmentation\n"
     ]
    }
   ],
   "source": [
    "data_yaml_content = f\"\"\"train: {dataset_dir}/images/train\n",
    "val: {dataset_dir}/images/val\n",
    "nc: 4\n",
    "names: ['Car', 'Taxi', 'Truck', 'Bus']\n",
    "# Data augmentation\n",
    "hsv_h: 0.015  # Hue\n",
    "hsv_s: 0.7    # Saturation\n",
    "hsv_v: 0.4    # Value\n",
    "degrees: 15.0  # Rotation\n",
    "translate: 0.1  # Translation\n",
    "scale: 0.5     # Scaling\n",
    "shear: 0.0     # Shear\n",
    "flipud: 0.5    # Flip up-down\n",
    "fliplr: 0.5    # Flip left-right\n",
    "mosaic: 1.0    # Mosaic\n",
    "mixup: 0.0     # Mixup\n",
    "\"\"\"\n",
    "with open(f\"{dataset_dir}/data.yaml\", \"w\") as f:\n",
    "    f.write(data_yaml_content)\n",
    "print(\"Created data.yaml with 4 classes and augmentation\")\n"
   ]
  },
  {
   "cell_type": "markdown",
   "id": "aae0e153",
   "metadata": {},
   "source": [
    "Training"
   ]
  },
  {
   "cell_type": "code",
   "execution_count": 60,
   "id": "a28432e2",
   "metadata": {},
   "outputs": [
    {
     "name": "stdout",
     "output_type": "stream",
     "text": [
      "  % Total    % Received % Xferd  Average Speed   Time    Time     Time  Current\n",
      "                                 Dload  Upload   Total   Spent    Left  Speed\n",
      "  0     0    0     0    0     0      0      0 --:--:-- --:--:-- --:--:--     0\n",
      "100 5482k  100 5482k    0     0  1155k      0  0:00:04  0:00:04 --:--:-- 1848k\n"
     ]
    }
   ],
   "source": [
    "!curl -L -o yolo11n.pt https://github.com/ultralytics/assets/releases/download/v8.3.0/yolo11n.pt"
   ]
  },
  {
   "cell_type": "code",
   "execution_count": 11,
   "id": "a1e9b5af",
   "metadata": {},
   "outputs": [
    {
     "name": "stdout",
     "output_type": "stream",
     "text": [
      "New https://pypi.org/project/ultralytics/8.3.126 available 😃 Update with 'pip install -U ultralytics'\n",
      "Ultralytics 8.3.114 🚀 Python-3.10.16 torch-2.6.0+cu124 CPU (AMD Ryzen 7 8845H w/ Radeon 780M Graphics)\n",
      "\u001b[34m\u001b[1mengine/trainer: \u001b[0mtask=detect, mode=train, model=yolo11n.pt, data=/home/meth/code/mlopsfin/tracking_pipeline/dataset/data.yaml, epochs=5, time=None, patience=100, batch=16, imgsz=416, save=True, save_period=-1, cache=False, device=cpu, workers=8, project=None, name=train_hyt, exist_ok=False, pretrained=True, optimizer=AdamW, verbose=True, seed=0, deterministic=True, single_cls=False, rect=False, cos_lr=False, close_mosaic=10, resume=False, amp=True, fraction=1.0, profile=False, freeze=None, multi_scale=False, overlap_mask=True, mask_ratio=4, dropout=0.0, val=True, split=val, save_json=False, conf=None, iou=0.7, max_det=300, half=False, dnn=False, plots=True, source=None, vid_stride=1, stream_buffer=False, visualize=False, augment=False, agnostic_nms=False, classes=None, retina_masks=False, embed=None, show=False, save_frames=False, save_txt=False, save_conf=False, save_crop=False, show_labels=True, show_conf=True, show_boxes=True, line_width=None, format=torchscript, keras=False, optimize=False, int8=False, dynamic=False, simplify=True, opset=None, workspace=None, nms=False, lr0=0.0005, lrf=0.01, momentum=0.937, weight_decay=0.0005, warmup_epochs=3.0, warmup_momentum=0.8, warmup_bias_lr=0.1, box=7.5, cls=0.5, dfl=1.5, pose=12.0, kobj=1.0, nbs=64, hsv_h=0.015, hsv_s=0.7, hsv_v=0.4, degrees=0.0, translate=0.1, scale=0.5, shear=0.0, perspective=0.0, flipud=0.0, fliplr=0.5, bgr=0.0, mosaic=1.0, mixup=0.0, copy_paste=0.0, copy_paste_mode=flip, auto_augment=randaugment, erasing=0.4, cfg=None, tracker=botsort.yaml, save_dir=runs/detect/train_hyt\n",
      "Overriding model.yaml nc=80 with nc=4\n",
      "\n",
      "                   from  n    params  module                                       arguments                     \n",
      "  0                  -1  1       464  ultralytics.nn.modules.conv.Conv             [3, 16, 3, 2]                 \n",
      "  1                  -1  1      4672  ultralytics.nn.modules.conv.Conv             [16, 32, 3, 2]                \n",
      "  2                  -1  1      6640  ultralytics.nn.modules.block.C3k2            [32, 64, 1, False, 0.25]      \n",
      "  3                  -1  1     36992  ultralytics.nn.modules.conv.Conv             [64, 64, 3, 2]                \n",
      "  4                  -1  1     26080  ultralytics.nn.modules.block.C3k2            [64, 128, 1, False, 0.25]     \n",
      "  5                  -1  1    147712  ultralytics.nn.modules.conv.Conv             [128, 128, 3, 2]              \n",
      "  6                  -1  1     87040  ultralytics.nn.modules.block.C3k2            [128, 128, 1, True]           \n",
      "  7                  -1  1    295424  ultralytics.nn.modules.conv.Conv             [128, 256, 3, 2]              \n",
      "  8                  -1  1    346112  ultralytics.nn.modules.block.C3k2            [256, 256, 1, True]           \n",
      "  9                  -1  1    164608  ultralytics.nn.modules.block.SPPF            [256, 256, 5]                 \n",
      " 10                  -1  1    249728  ultralytics.nn.modules.block.C2PSA           [256, 256, 1]                 \n",
      " 11                  -1  1         0  torch.nn.modules.upsampling.Upsample         [None, 2, 'nearest']          \n",
      " 12             [-1, 6]  1         0  ultralytics.nn.modules.conv.Concat           [1]                           \n",
      " 13                  -1  1    111296  ultralytics.nn.modules.block.C3k2            [384, 128, 1, False]          \n",
      " 14                  -1  1         0  torch.nn.modules.upsampling.Upsample         [None, 2, 'nearest']          \n",
      " 15             [-1, 4]  1         0  ultralytics.nn.modules.conv.Concat           [1]                           \n",
      " 16                  -1  1     32096  ultralytics.nn.modules.block.C3k2            [256, 64, 1, False]           \n",
      " 17                  -1  1     36992  ultralytics.nn.modules.conv.Conv             [64, 64, 3, 2]                \n",
      " 18            [-1, 13]  1         0  ultralytics.nn.modules.conv.Concat           [1]                           \n",
      " 19                  -1  1     86720  ultralytics.nn.modules.block.C3k2            [192, 128, 1, False]          \n",
      " 20                  -1  1    147712  ultralytics.nn.modules.conv.Conv             [128, 128, 3, 2]              \n",
      " 21            [-1, 10]  1         0  ultralytics.nn.modules.conv.Concat           [1]                           \n",
      " 22                  -1  1    378880  ultralytics.nn.modules.block.C3k2            [384, 256, 1, True]           \n",
      " 23        [16, 19, 22]  1    431452  ultralytics.nn.modules.head.Detect           [4, [64, 128, 256]]           \n",
      "YOLO11n summary: 181 layers, 2,590,620 parameters, 2,590,604 gradients, 6.4 GFLOPs\n",
      "\n",
      "Transferred 448/499 items from pretrained weights\n",
      "Freezing layer 'model.23.dfl.conv.weight'\n",
      "\u001b[34m\u001b[1mtrain: \u001b[0mFast image access ✅ (ping: 0.0±0.0 ms, read: 1599.6±727.1 MB/s, size: 239.6 KB)\n"
     ]
    },
    {
     "name": "stderr",
     "output_type": "stream",
     "text": [
      "\u001b[34m\u001b[1mtrain: \u001b[0mScanning /home/meth/code/mlopsfin/tracking_pipeline/dataset/labels/train.cache... 3600 images, 0 backgrounds, 0 corrupt: 100%|██████████| 3600/3600 [00:00<?, ?it/s]"
     ]
    },
    {
     "name": "stdout",
     "output_type": "stream",
     "text": [
      "\u001b[34m\u001b[1mval: \u001b[0mFast image access ✅ (ping: 0.0±0.0 ms, read: 2702.6±924.7 MB/s, size: 414.7 KB)\n"
     ]
    },
    {
     "name": "stderr",
     "output_type": "stream",
     "text": [
      "\n",
      "\u001b[34m\u001b[1mval: \u001b[0mScanning /home/meth/code/mlopsfin/tracking_pipeline/dataset/labels/val.cache... 400 images, 0 backgrounds, 0 corrupt: 100%|██████████| 400/400 [00:00<?, ?it/s]"
     ]
    },
    {
     "name": "stdout",
     "output_type": "stream",
     "text": [
      "Plotting labels to runs/detect/train_hyt/labels.jpg... \n"
     ]
    },
    {
     "name": "stderr",
     "output_type": "stream",
     "text": [
      "\n"
     ]
    },
    {
     "name": "stdout",
     "output_type": "stream",
     "text": [
      "\u001b[34m\u001b[1moptimizer:\u001b[0m AdamW(lr=0.0005, momentum=0.937) with parameter groups 81 weight(decay=0.0), 88 weight(decay=0.0005), 87 bias(decay=0.0)\n",
      "\u001b[34m\u001b[1mMLflow: \u001b[0mlogging run_id(6f3a6c88c51a463cb0c581f07d4361ba) to runs/mlflow\n",
      "\u001b[34m\u001b[1mMLflow: \u001b[0mview at http://127.0.0.1:5000 with 'mlflow server --backend-store-uri runs/mlflow'\n",
      "\u001b[34m\u001b[1mMLflow: \u001b[0mdisable with 'yolo settings mlflow=False'\n",
      "WARNING ⚠️ \u001b[34m\u001b[1mMLflow: \u001b[0mFailed to initialize: Changing param values is not allowed. Param with key='name' was already logged with value='train_hanh' for run ID='6f3a6c88c51a463cb0c581f07d4361ba'. Attempted logging new value 'train_hyt'.\n",
      "WARNING ⚠️ \u001b[34m\u001b[1mMLflow: \u001b[0mNot tracking this run\n",
      "Image sizes 416 train, 416 val\n",
      "Using 0 dataloader workers\n",
      "Logging results to \u001b[1mruns/detect/train_hyt\u001b[0m\n",
      "Starting training for 5 epochs...\n",
      "\n",
      "      Epoch    GPU_mem   box_loss   cls_loss   dfl_loss  Instances       Size\n"
     ]
    },
    {
     "name": "stderr",
     "output_type": "stream",
     "text": [
      "        1/5         0G      1.293      2.093      1.276        139        416: 100%|██████████| 225/225 [05:41<00:00,  1.52s/it]\n",
      "                 Class     Images  Instances      Box(P          R      mAP50  mAP50-95): 100%|██████████| 13/13 [00:14<00:00,  1.13s/it]"
     ]
    },
    {
     "name": "stdout",
     "output_type": "stream",
     "text": [
      "                   all        400       1107      0.466      0.353      0.349      0.228\n"
     ]
    },
    {
     "name": "stderr",
     "output_type": "stream",
     "text": [
      "\n"
     ]
    },
    {
     "name": "stdout",
     "output_type": "stream",
     "text": [
      "\n",
      "      Epoch    GPU_mem   box_loss   cls_loss   dfl_loss  Instances       Size\n"
     ]
    },
    {
     "name": "stderr",
     "output_type": "stream",
     "text": [
      "        2/5         0G      1.205      1.673      1.235         71        416: 100%|██████████| 225/225 [05:44<00:00,  1.53s/it]\n",
      "                 Class     Images  Instances      Box(P          R      mAP50  mAP50-95): 100%|██████████| 13/13 [00:13<00:00,  1.03s/it]"
     ]
    },
    {
     "name": "stdout",
     "output_type": "stream",
     "text": [
      "                   all        400       1107      0.595      0.485      0.534      0.356\n"
     ]
    },
    {
     "name": "stderr",
     "output_type": "stream",
     "text": [
      "\n"
     ]
    },
    {
     "name": "stdout",
     "output_type": "stream",
     "text": [
      "\n",
      "      Epoch    GPU_mem   box_loss   cls_loss   dfl_loss  Instances       Size\n"
     ]
    },
    {
     "name": "stderr",
     "output_type": "stream",
     "text": [
      "        3/5         0G      1.169      1.521      1.214         90        416: 100%|██████████| 225/225 [05:40<00:00,  1.51s/it]\n",
      "                 Class     Images  Instances      Box(P          R      mAP50  mAP50-95): 100%|██████████| 13/13 [00:14<00:00,  1.13s/it]"
     ]
    },
    {
     "name": "stdout",
     "output_type": "stream",
     "text": [
      "                   all        400       1107      0.565      0.546      0.563      0.388\n"
     ]
    },
    {
     "name": "stderr",
     "output_type": "stream",
     "text": [
      "\n"
     ]
    },
    {
     "name": "stdout",
     "output_type": "stream",
     "text": [
      "\n",
      "      Epoch    GPU_mem   box_loss   cls_loss   dfl_loss  Instances       Size\n"
     ]
    },
    {
     "name": "stderr",
     "output_type": "stream",
     "text": [
      "        4/5         0G      1.117       1.42      1.189        107        416: 100%|██████████| 225/225 [05:41<00:00,  1.52s/it]\n",
      "                 Class     Images  Instances      Box(P          R      mAP50  mAP50-95): 100%|██████████| 13/13 [00:15<00:00,  1.16s/it]"
     ]
    },
    {
     "name": "stdout",
     "output_type": "stream",
     "text": [
      "                   all        400       1107      0.658      0.586      0.619      0.425\n"
     ]
    },
    {
     "name": "stderr",
     "output_type": "stream",
     "text": [
      "\n"
     ]
    },
    {
     "name": "stdout",
     "output_type": "stream",
     "text": [
      "\n",
      "      Epoch    GPU_mem   box_loss   cls_loss   dfl_loss  Instances       Size\n"
     ]
    },
    {
     "name": "stderr",
     "output_type": "stream",
     "text": [
      "        5/5         0G      1.081      1.311      1.163         84        416: 100%|██████████| 225/225 [05:40<00:00,  1.51s/it]\n",
      "                 Class     Images  Instances      Box(P          R      mAP50  mAP50-95): 100%|██████████| 13/13 [00:14<00:00,  1.08s/it]"
     ]
    },
    {
     "name": "stdout",
     "output_type": "stream",
     "text": [
      "                   all        400       1107      0.668      0.584      0.636      0.443\n"
     ]
    },
    {
     "name": "stderr",
     "output_type": "stream",
     "text": [
      "\n"
     ]
    },
    {
     "name": "stdout",
     "output_type": "stream",
     "text": [
      "\n",
      "5 epochs completed in 0.495 hours.\n",
      "Optimizer stripped from runs/detect/train_hyt/weights/last.pt, 5.4MB\n",
      "Optimizer stripped from runs/detect/train_hyt/weights/best.pt, 5.4MB\n",
      "\n",
      "Validating runs/detect/train_hyt/weights/best.pt...\n",
      "Ultralytics 8.3.114 🚀 Python-3.10.16 torch-2.6.0+cu124 CPU (AMD Ryzen 7 8845H w/ Radeon 780M Graphics)\n",
      "YOLO11n summary (fused): 100 layers, 2,582,932 parameters, 0 gradients, 6.3 GFLOPs\n"
     ]
    },
    {
     "name": "stderr",
     "output_type": "stream",
     "text": [
      "                 Class     Images  Instances      Box(P          R      mAP50  mAP50-95): 100%|██████████| 13/13 [00:14<00:00,  1.11s/it]\n"
     ]
    },
    {
     "name": "stdout",
     "output_type": "stream",
     "text": [
      "                   all        400       1107      0.665      0.584      0.636      0.443\n",
      "                   Car        170        513      0.497      0.559      0.484      0.315\n",
      "                  Taxi         99        269      0.788      0.456      0.634      0.383\n",
      "                 Truck        101        133      0.652      0.707      0.742      0.546\n",
      "                   Bus        100        192      0.724      0.615      0.685      0.529\n",
      "Speed: 0.5ms preprocess, 24.0ms inference, 0.0ms loss, 0.7ms postprocess per image\n",
      "Results saved to \u001b[1mruns/detect/train_hyt\u001b[0m\n",
      "\u001b[34m\u001b[1mMLflow: \u001b[0mresults logged to runs/mlflow\n",
      "\u001b[34m\u001b[1mMLflow: \u001b[0mdisable with 'yolo settings mlflow=False'\n"
     ]
    }
   ],
   "source": [
    "model = YOLO(\"yolo11n.pt\")\n",
    "\n",
    "results = model.train(\n",
    "    data= os.path.join(dataset_dir, \"data.yaml\"),  \n",
    "    epochs=5,  \n",
    "    imgsz=416, \n",
    "    batch=16,   \n",
    "    device=\"cpu\", \n",
    "    optimizer=\"AdamW\",  \n",
    "    lr0=0.0005,  \n",
    "    name=\"train_hyt\"\n",
    ")\n"
   ]
  },
  {
   "cell_type": "markdown",
   "id": "8cb20c72",
   "metadata": {},
   "source": [
    "Inference\n"
   ]
  },
  {
   "cell_type": "code",
   "execution_count": 12,
   "id": "55e8ca5a",
   "metadata": {},
   "outputs": [
    {
     "data": {
      "text/plain": [
       "'/home/meth/code/mlopsfin/tracking_pipeline/dataset'"
      ]
     },
     "execution_count": 12,
     "metadata": {},
     "output_type": "execute_result"
    }
   ],
   "source": [
    "dataset_dir  "
   ]
  },
  {
   "cell_type": "code",
   "execution_count": 13,
   "id": "47d332c5",
   "metadata": {},
   "outputs": [
    {
     "name": "stdout",
     "output_type": "stream",
     "text": [
      "\n",
      "image 1/400 /home/meth/code/mlopsfin/tracking_pipeline/dataset/images/val/004e26b41de45ed0.jpg: 320x416 1 Bus, 141.2ms\n",
      "image 2/400 /home/meth/code/mlopsfin/tracking_pipeline/dataset/images/val/006b3443ca15652f.jpg: 320x416 1 Bus, 82.1ms\n",
      "image 3/400 /home/meth/code/mlopsfin/tracking_pipeline/dataset/images/val/00bf8ec18123392b.jpg: 320x416 1 Car, 85.8ms\n",
      "image 4/400 /home/meth/code/mlopsfin/tracking_pipeline/dataset/images/val/00c6c05e400a0b08.jpg: 416x288 2 Cars, 2 Taxis, 109.0ms\n",
      "image 5/400 /home/meth/code/mlopsfin/tracking_pipeline/dataset/images/val/00e1dee010109e09.jpg: 320x416 3 Buss, 52.8ms\n",
      "image 6/400 /home/meth/code/mlopsfin/tracking_pipeline/dataset/images/val/00e49c320e0304bf.jpg: 320x416 1 Truck, 72.9ms\n",
      "image 7/400 /home/meth/code/mlopsfin/tracking_pipeline/dataset/images/val/011870e1ced4424a.jpg: 288x416 1 Car, 110.0ms\n",
      "image 8/400 /home/meth/code/mlopsfin/tracking_pipeline/dataset/images/val/01562b645f62b0c7.jpg: 288x416 2 Cars, 1 Taxi, 70.5ms\n",
      "image 9/400 /home/meth/code/mlopsfin/tracking_pipeline/dataset/images/val/0158e9badb606ccf.jpg: 320x416 1 Truck, 1 Bus, 59.8ms\n",
      "image 10/400 /home/meth/code/mlopsfin/tracking_pipeline/dataset/images/val/0177b74f43cd23c9.jpg: 160x416 2 Buss, 73.3ms\n",
      "image 11/400 /home/meth/code/mlopsfin/tracking_pipeline/dataset/images/val/01d258f6d9d6dcf6.jpg: 192x416 1 Truck, 85.5ms\n",
      "image 12/400 /home/meth/code/mlopsfin/tracking_pipeline/dataset/images/val/01e1171fc4864b0f.jpg: 288x416 2 Cars, 2 Trucks, 72.9ms\n",
      "image 13/400 /home/meth/code/mlopsfin/tracking_pipeline/dataset/images/val/023463e93c2fa36e.jpg: 288x416 2 Cars, 1 Taxi, 63.9ms\n",
      "image 14/400 /home/meth/code/mlopsfin/tracking_pipeline/dataset/images/val/0278b477bb88e0b0.jpg: 352x416 1 Truck, 110.5ms\n",
      "image 15/400 /home/meth/code/mlopsfin/tracking_pipeline/dataset/images/val/029ef6edde4f0ac3.jpg: 320x416 1 Bus, 63.4ms\n",
      "image 16/400 /home/meth/code/mlopsfin/tracking_pipeline/dataset/images/val/0308f52fb2be22d0.jpg: 416x320 2 Cars, 2 Taxis, 90.3ms\n",
      "image 17/400 /home/meth/code/mlopsfin/tracking_pipeline/dataset/images/val/0320e58a2ded999f.jpg: 320x416 1 Truck, 47.5ms\n",
      "image 18/400 /home/meth/code/mlopsfin/tracking_pipeline/dataset/images/val/036374a151961577.jpg: 320x416 2 Buss, 38.6ms\n",
      "image 19/400 /home/meth/code/mlopsfin/tracking_pipeline/dataset/images/val/03755acd7e29eae3.jpg: 416x320 1 Car, 1 Truck, 36.7ms\n",
      "image 20/400 /home/meth/code/mlopsfin/tracking_pipeline/dataset/images/val/03af1855cadc876c.jpg: 320x416 3 Cars, 38.3ms\n",
      "image 21/400 /home/meth/code/mlopsfin/tracking_pipeline/dataset/images/val/03d9991ab99b2c0a.jpg: 416x320 2 Buss, 41.1ms\n",
      "image 22/400 /home/meth/code/mlopsfin/tracking_pipeline/dataset/images/val/0425cd2da4d35d78.jpg: 416x320 1 Car, 40.2ms\n",
      "image 23/400 /home/meth/code/mlopsfin/tracking_pipeline/dataset/images/val/042a29e3df68a42f.jpg: 320x416 6 Cars, 43.1ms\n",
      "image 24/400 /home/meth/code/mlopsfin/tracking_pipeline/dataset/images/val/059c90188c9a0338.jpg: 320x416 1 Bus, 41.7ms\n",
      "image 25/400 /home/meth/code/mlopsfin/tracking_pipeline/dataset/images/val/07af4f54cdb5865d.jpg: 320x416 3 Buss, 43.5ms\n",
      "image 26/400 /home/meth/code/mlopsfin/tracking_pipeline/dataset/images/val/07e81a4b79101c18.jpg: 352x416 1 Truck, 46.2ms\n",
      "image 27/400 /home/meth/code/mlopsfin/tracking_pipeline/dataset/images/val/0860b89761cd84b8.jpg: 320x416 2 Trucks, 42.1ms\n",
      "image 28/400 /home/meth/code/mlopsfin/tracking_pipeline/dataset/images/val/098f9dac32a667d6.jpg: 288x416 2 Cars, 1 Taxi, 42.3ms\n",
      "image 29/400 /home/meth/code/mlopsfin/tracking_pipeline/dataset/images/val/09a49bc5cf58b847.jpg: 320x416 3 Cars, 1 Taxi, 46.9ms\n",
      "image 30/400 /home/meth/code/mlopsfin/tracking_pipeline/dataset/images/val/09ac5c5d90c449de.jpg: 320x416 1 Car, 42.9ms\n",
      "image 31/400 /home/meth/code/mlopsfin/tracking_pipeline/dataset/images/val/09b7224945d7718b.jpg: 256x416 3 Cars, 3 Taxis, 79.4ms\n",
      "image 32/400 /home/meth/code/mlopsfin/tracking_pipeline/dataset/images/val/0a4306ef195b04d2.jpg: 256x416 1 Car, 1 Taxi, 40.9ms\n",
      "image 33/400 /home/meth/code/mlopsfin/tracking_pipeline/dataset/images/val/0a6ef05cd485f144.jpg: 288x416 2 Cars, 2 Taxis, 41.7ms\n",
      "image 34/400 /home/meth/code/mlopsfin/tracking_pipeline/dataset/images/val/0ad1a51511ffa541.jpg: 320x416 3 Cars, 3 Taxis, 41.3ms\n",
      "image 35/400 /home/meth/code/mlopsfin/tracking_pipeline/dataset/images/val/0b25a65b82253b91.jpg: 320x416 5 Cars, 3 Taxis, 44.3ms\n",
      "image 36/400 /home/meth/code/mlopsfin/tracking_pipeline/dataset/images/val/0c499e41b033b95b.jpg: 288x416 1 Taxi, 1 Bus, 45.1ms\n",
      "image 37/400 /home/meth/code/mlopsfin/tracking_pipeline/dataset/images/val/0e07da8b39430331.jpg: 416x288 1 Car, 2 Taxis, 49.2ms\n",
      "image 38/400 /home/meth/code/mlopsfin/tracking_pipeline/dataset/images/val/0e5167cffd2ce53f.jpg: 256x416 9 Cars, 1 Taxi, 1 Truck, 37.5ms\n",
      "image 39/400 /home/meth/code/mlopsfin/tracking_pipeline/dataset/images/val/0e5fa975f4174850.jpg: 288x416 1 Car, 41.8ms\n",
      "image 40/400 /home/meth/code/mlopsfin/tracking_pipeline/dataset/images/val/0e974901073a8573.jpg: 288x416 2 Trucks, 39.5ms\n",
      "image 41/400 /home/meth/code/mlopsfin/tracking_pipeline/dataset/images/val/0ed8d53bd0c88fc8.jpg: 288x416 1 Car, 1 Truck, 39.2ms\n",
      "image 42/400 /home/meth/code/mlopsfin/tracking_pipeline/dataset/images/val/0f47d9385e856d8f.jpg: 288x416 1 Car, 1 Taxi, 1 Bus, 41.6ms\n",
      "image 43/400 /home/meth/code/mlopsfin/tracking_pipeline/dataset/images/val/0f6e46009d24f686.jpg: 288x416 1 Truck, 35.9ms\n",
      "image 44/400 /home/meth/code/mlopsfin/tracking_pipeline/dataset/images/val/0f811773e3278a30.jpg: 416x352 2 Cars, 1 Bus, 74.9ms\n",
      "image 45/400 /home/meth/code/mlopsfin/tracking_pipeline/dataset/images/val/0fa663c914e8fe87.jpg: 320x416 1 Truck, 42.3ms\n",
      "image 46/400 /home/meth/code/mlopsfin/tracking_pipeline/dataset/images/val/0fd718daddd88e2e.jpg: 288x416 4 Cars, 1 Taxi, 38.6ms\n",
      "image 47/400 /home/meth/code/mlopsfin/tracking_pipeline/dataset/images/val/10f79b472ed24cb0.jpg: 320x416 1 Bus, 43.5ms\n",
      "image 48/400 /home/meth/code/mlopsfin/tracking_pipeline/dataset/images/val/11386f4a7af3e648.jpg: 288x416 4 Cars, 44.1ms\n",
      "image 49/400 /home/meth/code/mlopsfin/tracking_pipeline/dataset/images/val/118c840331c42068.jpg: 320x416 1 Car, 43.7ms\n",
      "image 50/400 /home/meth/code/mlopsfin/tracking_pipeline/dataset/images/val/12fb4aa991009e20.jpg: 320x416 2 Buss, 43.5ms\n",
      "image 51/400 /home/meth/code/mlopsfin/tracking_pipeline/dataset/images/val/1485042069a27486.jpg: 320x416 1 Car, 1 Bus, 41.3ms\n",
      "image 52/400 /home/meth/code/mlopsfin/tracking_pipeline/dataset/images/val/14a0e40c63218621.jpg: 256x416 1 Taxi, 43.8ms\n",
      "image 53/400 /home/meth/code/mlopsfin/tracking_pipeline/dataset/images/val/15478f1fa5b648f4.jpg: 352x416 1 Bus, 47.9ms\n",
      "image 54/400 /home/meth/code/mlopsfin/tracking_pipeline/dataset/images/val/15c45dbd4ef65448.jpg: 288x416 2 Cars, 3 Taxis, 41.5ms\n",
      "image 55/400 /home/meth/code/mlopsfin/tracking_pipeline/dataset/images/val/16d8aea265718b34.jpg: 288x416 1 Car, 39.4ms\n",
      "image 56/400 /home/meth/code/mlopsfin/tracking_pipeline/dataset/images/val/19695c66bdff3262.jpg: 288x416 1 Car, 47.1ms\n",
      "image 57/400 /home/meth/code/mlopsfin/tracking_pipeline/dataset/images/val/1b229eb44cdb254c.jpg: 256x416 1 Bus, 43.4ms\n",
      "image 58/400 /home/meth/code/mlopsfin/tracking_pipeline/dataset/images/val/1c821ce5b084cd23.jpg: 416x320 2 Buss, 42.5ms\n",
      "image 59/400 /home/meth/code/mlopsfin/tracking_pipeline/dataset/images/val/1d0a64cad482ac0b.jpg: 288x416 2 Cars, 39.7ms\n",
      "image 60/400 /home/meth/code/mlopsfin/tracking_pipeline/dataset/images/val/1d58456f6d5e9498.jpg: 320x416 1 Bus, 36.4ms\n",
      "image 61/400 /home/meth/code/mlopsfin/tracking_pipeline/dataset/images/val/1e67f4e847b2df5c.jpg: 224x416 1 Bus, 64.7ms\n",
      "image 62/400 /home/meth/code/mlopsfin/tracking_pipeline/dataset/images/val/1e824d36d4442b08.jpg: 288x416 1 Truck, 51.7ms\n",
      "image 63/400 /home/meth/code/mlopsfin/tracking_pipeline/dataset/images/val/20f3adc622d46e38.jpg: 192x416 1 Car, 38.7ms\n",
      "image 64/400 /home/meth/code/mlopsfin/tracking_pipeline/dataset/images/val/210dcae859eb55af.jpg: 320x416 2 Cars, 3 Taxis, 43.7ms\n",
      "image 65/400 /home/meth/code/mlopsfin/tracking_pipeline/dataset/images/val/21a5fea23361b170.jpg: 256x416 1 Car, 1 Truck, 42.8ms\n",
      "image 66/400 /home/meth/code/mlopsfin/tracking_pipeline/dataset/images/val/221dfa1a3b23385f.jpg: 320x416 1 Truck, 43.9ms\n",
      "image 67/400 /home/meth/code/mlopsfin/tracking_pipeline/dataset/images/val/24da153d756e9635.jpg: 288x416 1 Bus, 40.7ms\n",
      "image 68/400 /home/meth/code/mlopsfin/tracking_pipeline/dataset/images/val/250cb660f519ca2f.jpg: 288x416 3 Cars, 41.7ms\n",
      "image 69/400 /home/meth/code/mlopsfin/tracking_pipeline/dataset/images/val/26451b33a647d3d0.jpg: 320x416 1 Car, 43.4ms\n",
      "image 70/400 /home/meth/code/mlopsfin/tracking_pipeline/dataset/images/val/26580bd1872bd1d2.jpg: 288x416 1 Car, 45.3ms\n",
      "image 71/400 /home/meth/code/mlopsfin/tracking_pipeline/dataset/images/val/26775ec6cdcdbc9d.jpg: 288x416 1 Truck, 43.7ms\n",
      "image 72/400 /home/meth/code/mlopsfin/tracking_pipeline/dataset/images/val/273ef49ce86823a2.jpg: 320x416 1 Truck, 49.9ms\n",
      "image 73/400 /home/meth/code/mlopsfin/tracking_pipeline/dataset/images/val/2816a45b016938a2.jpg: 416x416 7 Cars, 3 Taxis, 152.9ms\n",
      "image 74/400 /home/meth/code/mlopsfin/tracking_pipeline/dataset/images/val/28202a7ad8fc41a5.jpg: 320x416 1 Truck, 63.8ms\n",
      "image 75/400 /home/meth/code/mlopsfin/tracking_pipeline/dataset/images/val/287ca049f53e67a8.jpg: 320x416 1 Truck, 41.6ms\n",
      "image 76/400 /home/meth/code/mlopsfin/tracking_pipeline/dataset/images/val/2a7fbe3630e47150.jpg: 320x416 1 Car, 39.7ms\n",
      "image 77/400 /home/meth/code/mlopsfin/tracking_pipeline/dataset/images/val/2ac74379b16c6f5a.jpg: 288x416 2 Cars, 1 Taxi, 40.6ms\n",
      "image 78/400 /home/meth/code/mlopsfin/tracking_pipeline/dataset/images/val/2b338595c1a3a278.jpg: 320x416 1 Car, 1 Taxi, 40.8ms\n",
      "image 79/400 /home/meth/code/mlopsfin/tracking_pipeline/dataset/images/val/2c7f53eb8006126a.jpg: 288x416 1 Car, 41.6ms\n",
      "image 80/400 /home/meth/code/mlopsfin/tracking_pipeline/dataset/images/val/2c9285b8c4c5cae6.jpg: 416x320 1 Bus, 37.4ms\n",
      "image 81/400 /home/meth/code/mlopsfin/tracking_pipeline/dataset/images/val/2cbc97cfef3464d0.jpg: 320x416 1 Car, 1 Truck, 43.0ms\n",
      "image 82/400 /home/meth/code/mlopsfin/tracking_pipeline/dataset/images/val/2ce6b1e57b3b1a12.jpg: 320x416 1 Bus, 42.9ms\n",
      "image 83/400 /home/meth/code/mlopsfin/tracking_pipeline/dataset/images/val/2dc21ccdfb8ad711.jpg: 288x416 3 Cars, 3 Taxis, 35.4ms\n",
      "image 84/400 /home/meth/code/mlopsfin/tracking_pipeline/dataset/images/val/2fa44ce3ff24db5a.jpg: 320x416 5 Cars, 1 Taxi, 39.1ms\n",
      "image 85/400 /home/meth/code/mlopsfin/tracking_pipeline/dataset/images/val/2fed875b9352c4f6.jpg: 320x416 2 Cars, 38.5ms\n",
      "image 86/400 /home/meth/code/mlopsfin/tracking_pipeline/dataset/images/val/315336e5ffa8a3cb.jpg: 288x416 1 Truck, 46.2ms\n",
      "image 87/400 /home/meth/code/mlopsfin/tracking_pipeline/dataset/images/val/338a002222f32f55.jpg: 320x416 1 Bus, 49.8ms\n",
      "image 88/400 /home/meth/code/mlopsfin/tracking_pipeline/dataset/images/val/33ce71a9bc516040.jpg: 224x416 1 Car, 41.2ms\n",
      "image 89/400 /home/meth/code/mlopsfin/tracking_pipeline/dataset/images/val/345bf68f4b89088e.jpg: 320x416 3 Cars, 47.8ms\n",
      "image 90/400 /home/meth/code/mlopsfin/tracking_pipeline/dataset/images/val/349b56821d9e534b.jpg: 416x320 (no detections), 53.7ms\n",
      "image 91/400 /home/meth/code/mlopsfin/tracking_pipeline/dataset/images/val/34a8a25a84395a82.jpg: 352x416 1 Truck, 52.2ms\n",
      "image 92/400 /home/meth/code/mlopsfin/tracking_pipeline/dataset/images/val/35fec992529363c6.jpg: 416x320 4 Cars, 48.9ms\n",
      "image 93/400 /home/meth/code/mlopsfin/tracking_pipeline/dataset/images/val/36bacc73734daf0d.jpg: 320x416 1 Truck, 45.3ms\n",
      "image 94/400 /home/meth/code/mlopsfin/tracking_pipeline/dataset/images/val/3704b4d100aaa20c.jpg: 288x416 1 Car, 1 Taxi, 43.5ms\n",
      "image 95/400 /home/meth/code/mlopsfin/tracking_pipeline/dataset/images/val/3890191dc6f829e0.jpg: 288x416 1 Taxi, 43.5ms\n",
      "image 96/400 /home/meth/code/mlopsfin/tracking_pipeline/dataset/images/val/39566081a933d6c3.jpg: 256x416 3 Cars, 40.7ms\n",
      "image 97/400 /home/meth/code/mlopsfin/tracking_pipeline/dataset/images/val/39a14658b0b0efac.jpg: 352x416 1 Truck, 40.4ms\n",
      "image 98/400 /home/meth/code/mlopsfin/tracking_pipeline/dataset/images/val/39a896a7587340c6.jpg: 288x416 6 Cars, 41.9ms\n",
      "image 99/400 /home/meth/code/mlopsfin/tracking_pipeline/dataset/images/val/3ade647588f56ba8.jpg: 320x416 1 Truck, 39.1ms\n",
      "image 100/400 /home/meth/code/mlopsfin/tracking_pipeline/dataset/images/val/3aeac4964892eef0.jpg: 288x416 1 Taxi, 1 Truck, 41.0ms\n",
      "image 101/400 /home/meth/code/mlopsfin/tracking_pipeline/dataset/images/val/3b16db1ed9d7915a.jpg: 288x416 (no detections), 41.0ms\n",
      "image 102/400 /home/meth/code/mlopsfin/tracking_pipeline/dataset/images/val/3b3bc758010e3ef9.jpg: 320x416 1 Car, 11 Taxis, 45.8ms\n",
      "image 103/400 /home/meth/code/mlopsfin/tracking_pipeline/dataset/images/val/3beca4d6152a4aa5.jpg: 256x416 1 Bus, 47.6ms\n",
      "image 104/400 /home/meth/code/mlopsfin/tracking_pipeline/dataset/images/val/3e74b2e5afb80016.jpg: 256x416 3 Buss, 42.2ms\n",
      "image 105/400 /home/meth/code/mlopsfin/tracking_pipeline/dataset/images/val/3e836e22a5cd1a86.jpg: 224x416 1 Truck, 39.8ms\n",
      "image 106/400 /home/meth/code/mlopsfin/tracking_pipeline/dataset/images/val/3e920a906c6aa920.jpg: 224x416 2 Buss, 44.4ms\n",
      "image 107/400 /home/meth/code/mlopsfin/tracking_pipeline/dataset/images/val/3e9b9864fa7a6e14.jpg: 288x416 2 Trucks, 1 Bus, 47.5ms\n",
      "image 108/400 /home/meth/code/mlopsfin/tracking_pipeline/dataset/images/val/3fe8e8bf22607b1b.jpg: 320x416 1 Car, 51.2ms\n",
      "image 109/400 /home/meth/code/mlopsfin/tracking_pipeline/dataset/images/val/403919060c1dbf64.jpg: 320x416 1 Truck, 48.2ms\n",
      "image 110/400 /home/meth/code/mlopsfin/tracking_pipeline/dataset/images/val/40d2bc3de030c25d.jpg: 320x416 2 Cars, 5 Taxis, 1 Truck, 42.6ms\n",
      "image 111/400 /home/meth/code/mlopsfin/tracking_pipeline/dataset/images/val/4182a72f8495a133.jpg: 320x416 1 Bus, 43.5ms\n",
      "image 112/400 /home/meth/code/mlopsfin/tracking_pipeline/dataset/images/val/4203bcacbdc91017.jpg: 256x416 6 Cars, 1 Taxi, 44.0ms\n",
      "image 113/400 /home/meth/code/mlopsfin/tracking_pipeline/dataset/images/val/420623cde087511b.jpg: 320x416 1 Bus, 42.0ms\n",
      "image 114/400 /home/meth/code/mlopsfin/tracking_pipeline/dataset/images/val/4365ab64c4513b67.jpg: 416x288 2 Cars, 1 Taxi, 38.7ms\n",
      "image 115/400 /home/meth/code/mlopsfin/tracking_pipeline/dataset/images/val/4428d8a8cf42cd23.jpg: 416x416 1 Truck, 52.6ms\n",
      "image 116/400 /home/meth/code/mlopsfin/tracking_pipeline/dataset/images/val/44425c6df7a2e2e5.jpg: 320x416 1 Bus, 50.1ms\n",
      "image 117/400 /home/meth/code/mlopsfin/tracking_pipeline/dataset/images/val/44bad323e8d8d626.jpg: 320x416 1 Truck, 39.0ms\n",
      "image 118/400 /home/meth/code/mlopsfin/tracking_pipeline/dataset/images/val/44f2cbd84c33a6f0.jpg: 320x416 1 Truck, 43.6ms\n",
      "image 119/400 /home/meth/code/mlopsfin/tracking_pipeline/dataset/images/val/45cf4ae90f70a9b2.jpg: 320x416 1 Truck, 2 Buss, 48.3ms\n",
      "image 120/400 /home/meth/code/mlopsfin/tracking_pipeline/dataset/images/val/45d52a7f3ae4d191.jpg: 320x416 5 Buss, 60.1ms\n",
      "image 121/400 /home/meth/code/mlopsfin/tracking_pipeline/dataset/images/val/461eb5fe501d4fc8.jpg: 416x288 1 Truck, 49.3ms\n",
      "image 122/400 /home/meth/code/mlopsfin/tracking_pipeline/dataset/images/val/47db6684776dc0d2.jpg: 320x416 1 Car, 45.9ms\n",
      "image 123/400 /home/meth/code/mlopsfin/tracking_pipeline/dataset/images/val/485a542db5576a98.jpg: 320x416 1 Car, 1 Bus, 44.0ms\n",
      "image 124/400 /home/meth/code/mlopsfin/tracking_pipeline/dataset/images/val/487b09e8f1fb52a2.jpg: 320x416 6 Cars, 1 Bus, 41.3ms\n",
      "image 125/400 /home/meth/code/mlopsfin/tracking_pipeline/dataset/images/val/48fac7126e8e73e2.jpg: 288x416 3 Cars, 1 Truck, 40.7ms\n",
      "image 126/400 /home/meth/code/mlopsfin/tracking_pipeline/dataset/images/val/49dcfa23b55878ea.jpg: 320x416 1 Car, 39.0ms\n",
      "image 127/400 /home/meth/code/mlopsfin/tracking_pipeline/dataset/images/val/4a4d37822337923e.jpg: 320x416 1 Bus, 52.4ms\n",
      "image 128/400 /home/meth/code/mlopsfin/tracking_pipeline/dataset/images/val/4ade152b4a0dd06d.jpg: 224x416 1 Bus, 39.9ms\n",
      "image 129/400 /home/meth/code/mlopsfin/tracking_pipeline/dataset/images/val/4b19c4ca2244f843.jpg: 320x416 1 Car, 42.3ms\n",
      "image 130/400 /home/meth/code/mlopsfin/tracking_pipeline/dataset/images/val/4c5887590ad20981.jpg: 256x416 2 Cars, 1 Taxi, 45.8ms\n",
      "image 131/400 /home/meth/code/mlopsfin/tracking_pipeline/dataset/images/val/4c9c67bb0f8bc7f9.jpg: 320x416 1 Car, 47.5ms\n",
      "image 132/400 /home/meth/code/mlopsfin/tracking_pipeline/dataset/images/val/4f63721866b54266.jpg: 288x416 3 Trucks, 43.0ms\n",
      "image 133/400 /home/meth/code/mlopsfin/tracking_pipeline/dataset/images/val/516bdbd10eb1b525.jpg: 288x416 5 Cars, 1 Taxi, 36.0ms\n",
      "image 134/400 /home/meth/code/mlopsfin/tracking_pipeline/dataset/images/val/51757ee63788358f.jpg: 192x416 3 Cars, 41.2ms\n",
      "image 135/400 /home/meth/code/mlopsfin/tracking_pipeline/dataset/images/val/51c1cbb992a721e3.jpg: 320x416 2 Cars, 45.1ms\n",
      "image 136/400 /home/meth/code/mlopsfin/tracking_pipeline/dataset/images/val/523349e294d0a06d.jpg: 320x416 3 Cars, 3 Taxis, 45.5ms\n",
      "image 137/400 /home/meth/code/mlopsfin/tracking_pipeline/dataset/images/val/52c649b5c71080ec.jpg: 288x416 1 Car, 44.1ms\n",
      "image 138/400 /home/meth/code/mlopsfin/tracking_pipeline/dataset/images/val/53044d65e470e024.jpg: 288x416 3 Cars, 1 Taxi, 1 Bus, 39.7ms\n",
      "image 139/400 /home/meth/code/mlopsfin/tracking_pipeline/dataset/images/val/5315ea46737368ba.jpg: 416x288 3 Cars, 2 Taxis, 40.9ms\n",
      "image 140/400 /home/meth/code/mlopsfin/tracking_pipeline/dataset/images/val/5336da01c941c679.jpg: 320x416 (no detections), 45.2ms\n",
      "image 141/400 /home/meth/code/mlopsfin/tracking_pipeline/dataset/images/val/53af7574248e4564.jpg: 320x416 1 Truck, 43.2ms\n",
      "image 142/400 /home/meth/code/mlopsfin/tracking_pipeline/dataset/images/val/53bef9081f815878.jpg: 288x416 1 Truck, 1 Bus, 54.7ms\n",
      "image 143/400 /home/meth/code/mlopsfin/tracking_pipeline/dataset/images/val/54ceac0c49b5149a.jpg: 288x416 4 Cars, 274.4ms\n",
      "image 144/400 /home/meth/code/mlopsfin/tracking_pipeline/dataset/images/val/5559d85c5384af88.jpg: 288x416 1 Car, 2 Trucks, 78.7ms\n",
      "image 145/400 /home/meth/code/mlopsfin/tracking_pipeline/dataset/images/val/55a6d22dc2613d24.jpg: 288x416 6 Cars, 69.8ms\n",
      "image 146/400 /home/meth/code/mlopsfin/tracking_pipeline/dataset/images/val/56f99a7e1afb993c.jpg: 288x416 2 Cars, 4 Taxis, 62.2ms\n",
      "image 147/400 /home/meth/code/mlopsfin/tracking_pipeline/dataset/images/val/5713f3b8974fb607.jpg: 416x288 2 Cars, 54.7ms\n",
      "image 148/400 /home/meth/code/mlopsfin/tracking_pipeline/dataset/images/val/57472d3231b8ef88.jpg: 320x416 2 Cars, 47.9ms\n",
      "image 149/400 /home/meth/code/mlopsfin/tracking_pipeline/dataset/images/val/5747da4fb5609405.jpg: 320x416 1 Car, 2 Buss, 42.8ms\n",
      "image 150/400 /home/meth/code/mlopsfin/tracking_pipeline/dataset/images/val/590d690100310700.jpg: 288x416 2 Cars, 40.2ms\n",
      "image 151/400 /home/meth/code/mlopsfin/tracking_pipeline/dataset/images/val/59ba23da639c1ec6.jpg: 288x416 1 Car, 1 Truck, 42.9ms\n",
      "image 152/400 /home/meth/code/mlopsfin/tracking_pipeline/dataset/images/val/5a4c13ec1df647e6.jpg: 320x416 5 Cars, 4 Taxis, 49.0ms\n",
      "image 153/400 /home/meth/code/mlopsfin/tracking_pipeline/dataset/images/val/5a82d3e6f8a68170.jpg: 288x416 2 Cars, 5 Taxis, 41.8ms\n",
      "image 154/400 /home/meth/code/mlopsfin/tracking_pipeline/dataset/images/val/5ac22423139b73bf.jpg: 288x416 3 Cars, 37.7ms\n",
      "image 155/400 /home/meth/code/mlopsfin/tracking_pipeline/dataset/images/val/5b5a677eb7a7eecc.jpg: 320x416 1 Truck, 44.2ms\n",
      "image 156/400 /home/meth/code/mlopsfin/tracking_pipeline/dataset/images/val/5b8231629736ec35.jpg: 416x320 1 Car, 1 Taxi, 47.9ms\n",
      "image 157/400 /home/meth/code/mlopsfin/tracking_pipeline/dataset/images/val/5b986c3b2e95a07c.jpg: 320x416 2 Buss, 67.2ms\n",
      "image 158/400 /home/meth/code/mlopsfin/tracking_pipeline/dataset/images/val/5bd61292eb07a96e.jpg: 288x416 3 Cars, 2 Trucks, 50.3ms\n",
      "image 159/400 /home/meth/code/mlopsfin/tracking_pipeline/dataset/images/val/5c7a6a9cf6cc3788.jpg: 224x416 1 Bus, 38.9ms\n",
      "image 160/400 /home/meth/code/mlopsfin/tracking_pipeline/dataset/images/val/5cabc7b7bde56baf.jpg: 320x416 2 Cars, 1 Truck, 40.3ms\n",
      "image 161/400 /home/meth/code/mlopsfin/tracking_pipeline/dataset/images/val/5cecccb4b7ee532e.jpg: 320x416 2 Buss, 41.8ms\n",
      "image 162/400 /home/meth/code/mlopsfin/tracking_pipeline/dataset/images/val/5dc93d30d328d467.jpg: 224x416 1 Truck, 40.7ms\n",
      "image 163/400 /home/meth/code/mlopsfin/tracking_pipeline/dataset/images/val/5e25df92f6714a33.jpg: 320x416 1 Car, 39.5ms\n",
      "image 164/400 /home/meth/code/mlopsfin/tracking_pipeline/dataset/images/val/5eab889eb7a1506e.jpg: 256x416 2 Cars, 1 Taxi, 39.0ms\n",
      "image 165/400 /home/meth/code/mlopsfin/tracking_pipeline/dataset/images/val/5ebb4019f0f51281.jpg: 320x416 1 Bus, 41.8ms\n",
      "image 166/400 /home/meth/code/mlopsfin/tracking_pipeline/dataset/images/val/5ff7b1ed7ede55c1.jpg: 416x384 2 Buss, 83.1ms\n",
      "image 167/400 /home/meth/code/mlopsfin/tracking_pipeline/dataset/images/val/5ff85f3f191d09fd.jpg: 320x416 1 Truck, 40.2ms\n",
      "image 168/400 /home/meth/code/mlopsfin/tracking_pipeline/dataset/images/val/601b3f8ede6d0199.jpg: 256x416 3 Cars, 40.2ms\n",
      "image 169/400 /home/meth/code/mlopsfin/tracking_pipeline/dataset/images/val/611e38d1ee9cfa01.jpg: 320x416 3 Cars, 46.1ms\n",
      "image 170/400 /home/meth/code/mlopsfin/tracking_pipeline/dataset/images/val/61678cacb54f3d48.jpg: 288x416 1 Car, 42.0ms\n",
      "image 171/400 /home/meth/code/mlopsfin/tracking_pipeline/dataset/images/val/6262c8bcd05dc110.jpg: 288x416 1 Car, 35.0ms\n",
      "image 172/400 /home/meth/code/mlopsfin/tracking_pipeline/dataset/images/val/62c7285cb431bf6a.jpg: 320x416 1 Truck, 1 Bus, 41.1ms\n",
      "image 173/400 /home/meth/code/mlopsfin/tracking_pipeline/dataset/images/val/63d30df88e2aaff3.jpg: 288x416 3 Cars, 1 Taxi, 1 Bus, 44.4ms\n",
      "image 174/400 /home/meth/code/mlopsfin/tracking_pipeline/dataset/images/val/657acc78e4eccd3e.jpg: 288x416 1 Truck, 42.9ms\n",
      "image 175/400 /home/meth/code/mlopsfin/tracking_pipeline/dataset/images/val/65c37f0599c4a9e3.jpg: 320x416 4 Cars, 44.4ms\n",
      "image 176/400 /home/meth/code/mlopsfin/tracking_pipeline/dataset/images/val/65c9d62f6cc74da7.jpg: 288x416 1 Bus, 38.0ms\n",
      "image 177/400 /home/meth/code/mlopsfin/tracking_pipeline/dataset/images/val/66f58a444735e22c.jpg: 288x416 2 Cars, 42.5ms\n",
      "image 178/400 /home/meth/code/mlopsfin/tracking_pipeline/dataset/images/val/672b65279bfdf655.jpg: 160x416 1 Car, 36.8ms\n",
      "image 179/400 /home/meth/code/mlopsfin/tracking_pipeline/dataset/images/val/674e57b7e72cdfc9.jpg: 256x416 1 Bus, 43.5ms\n",
      "image 180/400 /home/meth/code/mlopsfin/tracking_pipeline/dataset/images/val/676a66037ef78dab.jpg: 320x416 6 Cars, 3 Taxis, 43.4ms\n",
      "image 181/400 /home/meth/code/mlopsfin/tracking_pipeline/dataset/images/val/6843ba90f9ccce67.jpg: 416x416 (no detections), 53.8ms\n",
      "image 182/400 /home/meth/code/mlopsfin/tracking_pipeline/dataset/images/val/68d083b60421bdd6.jpg: 288x416 3 Cars, 50.1ms\n",
      "image 183/400 /home/meth/code/mlopsfin/tracking_pipeline/dataset/images/val/69835aedf65f6d3c.jpg: 320x416 1 Truck, 44.2ms\n",
      "image 184/400 /home/meth/code/mlopsfin/tracking_pipeline/dataset/images/val/698a0e3fba1339d7.jpg: 320x416 1 Car, 1 Truck, 42.1ms\n",
      "image 185/400 /home/meth/code/mlopsfin/tracking_pipeline/dataset/images/val/69990c9707fa7b9b.jpg: 288x416 1 Car, 39.1ms\n",
      "image 186/400 /home/meth/code/mlopsfin/tracking_pipeline/dataset/images/val/6a395ea31ac6cabc.jpg: 416x288 1 Car, 2 Taxis, 47.5ms\n",
      "image 187/400 /home/meth/code/mlopsfin/tracking_pipeline/dataset/images/val/6a811d47a9b92964.jpg: 320x416 2 Cars, 2 Taxis, 43.5ms\n",
      "image 188/400 /home/meth/code/mlopsfin/tracking_pipeline/dataset/images/val/6bd5be2a2ebd0f2e.jpg: 416x352 1 Car, 1 Taxi, 40.3ms\n",
      "image 189/400 /home/meth/code/mlopsfin/tracking_pipeline/dataset/images/val/6bee9e2b20418e84.jpg: 256x416 2 Cars, 42.5ms\n",
      "image 190/400 /home/meth/code/mlopsfin/tracking_pipeline/dataset/images/val/6bf550801f09a82e.jpg: 320x416 1 Bus, 40.7ms\n",
      "image 191/400 /home/meth/code/mlopsfin/tracking_pipeline/dataset/images/val/6d1230e4c315a51e.jpg: 416x416 1 Car, 49.0ms\n",
      "image 192/400 /home/meth/code/mlopsfin/tracking_pipeline/dataset/images/val/6d785ff6aa74518c.jpg: 288x416 1 Truck, 42.3ms\n",
      "image 193/400 /home/meth/code/mlopsfin/tracking_pipeline/dataset/images/val/6f2f4090c9cfe0e0.jpg: 320x416 1 Truck, 39.7ms\n",
      "image 194/400 /home/meth/code/mlopsfin/tracking_pipeline/dataset/images/val/6f4625e6a1410baf.jpg: 288x416 4 Buss, 44.9ms\n",
      "image 195/400 /home/meth/code/mlopsfin/tracking_pipeline/dataset/images/val/7072c66af7ec0e86.jpg: 256x416 2 Trucks, 37.0ms\n",
      "image 196/400 /home/meth/code/mlopsfin/tracking_pipeline/dataset/images/val/70b8e76da43eed17.jpg: 320x416 2 Cars, 45.0ms\n",
      "image 197/400 /home/meth/code/mlopsfin/tracking_pipeline/dataset/images/val/711a1a12cef74c9c.jpg: 288x416 1 Truck, 47.0ms\n",
      "image 198/400 /home/meth/code/mlopsfin/tracking_pipeline/dataset/images/val/7278770cc3821021.jpg: 416x416 1 Car, 3 Trucks, 56.2ms\n",
      "image 199/400 /home/meth/code/mlopsfin/tracking_pipeline/dataset/images/val/72c92597ed57fae7.jpg: 320x416 6 Cars, 47.3ms\n",
      "image 200/400 /home/meth/code/mlopsfin/tracking_pipeline/dataset/images/val/759835f5515aff81.jpg: 288x416 2 Buss, 40.1ms\n",
      "image 201/400 /home/meth/code/mlopsfin/tracking_pipeline/dataset/images/val/76feecc80381ff01.jpg: 160x416 4 Cars, 33.9ms\n",
      "image 202/400 /home/meth/code/mlopsfin/tracking_pipeline/dataset/images/val/77587ede67d0a912.jpg: 320x416 1 Car, 2 Taxis, 38.9ms\n",
      "image 203/400 /home/meth/code/mlopsfin/tracking_pipeline/dataset/images/val/779c9d920615c78a.jpg: 320x416 1 Car, 2 Taxis, 36.7ms\n",
      "image 204/400 /home/meth/code/mlopsfin/tracking_pipeline/dataset/images/val/7893078cd59f88cc.jpg: 320x416 2 Buss, 44.0ms\n",
      "image 205/400 /home/meth/code/mlopsfin/tracking_pipeline/dataset/images/val/78aa99084fbeb931.jpg: 416x416 1 Truck, 49.4ms\n",
      "image 206/400 /home/meth/code/mlopsfin/tracking_pipeline/dataset/images/val/79e603888a180d6c.jpg: 288x416 1 Bus, 47.8ms\n",
      "image 207/400 /home/meth/code/mlopsfin/tracking_pipeline/dataset/images/val/7a29a69dc7b3a2f8.jpg: 320x416 2 Trucks, 53.7ms\n",
      "image 208/400 /home/meth/code/mlopsfin/tracking_pipeline/dataset/images/val/7ba7683e5d41fb9e.jpg: 416x416 2 Buss, 53.3ms\n",
      "image 209/400 /home/meth/code/mlopsfin/tracking_pipeline/dataset/images/val/7c4c8c92aec94818.jpg: 256x416 1 Truck, 1 Bus, 46.2ms\n",
      "image 210/400 /home/meth/code/mlopsfin/tracking_pipeline/dataset/images/val/7c55119b44cb7482.jpg: 320x416 1 Taxi, 50.9ms\n",
      "image 211/400 /home/meth/code/mlopsfin/tracking_pipeline/dataset/images/val/7cadf143faf5a788.jpg: 320x416 1 Car, 1 Taxi, 1 Truck, 1 Bus, 117.6ms\n",
      "image 212/400 /home/meth/code/mlopsfin/tracking_pipeline/dataset/images/val/7cbd59398cca7e42.jpg: 320x416 1 Truck, 43.5ms\n",
      "image 213/400 /home/meth/code/mlopsfin/tracking_pipeline/dataset/images/val/7cc70867719d155f.jpg: 320x416 2 Cars, 2 Taxis, 38.9ms\n",
      "image 214/400 /home/meth/code/mlopsfin/tracking_pipeline/dataset/images/val/7d51b79b8e0249bb.jpg: 256x416 3 Cars, 42.5ms\n",
      "image 215/400 /home/meth/code/mlopsfin/tracking_pipeline/dataset/images/val/7df7bf35b5f1caaa.jpg: 288x416 1 Car, 40.8ms\n",
      "image 216/400 /home/meth/code/mlopsfin/tracking_pipeline/dataset/images/val/7e7e968992c19425.jpg: 224x416 1 Car, 1 Truck, 45.0ms\n",
      "image 217/400 /home/meth/code/mlopsfin/tracking_pipeline/dataset/images/val/7f801164f24ed5b6.jpg: 288x416 1 Car, 1 Truck, 54.3ms\n",
      "image 218/400 /home/meth/code/mlopsfin/tracking_pipeline/dataset/images/val/800d75f6c7e9c521.jpg: 320x416 2 Cars, 3 Taxis, 131.8ms\n",
      "image 219/400 /home/meth/code/mlopsfin/tracking_pipeline/dataset/images/val/801956a5500e9f9f.jpg: 320x416 2 Cars, 54.9ms\n",
      "image 220/400 /home/meth/code/mlopsfin/tracking_pipeline/dataset/images/val/806ea9df1f176ea7.jpg: 288x416 3 Buss, 42.6ms\n",
      "image 221/400 /home/meth/code/mlopsfin/tracking_pipeline/dataset/images/val/82c4db39084116c9.jpg: 320x416 2 Trucks, 44.0ms\n",
      "image 222/400 /home/meth/code/mlopsfin/tracking_pipeline/dataset/images/val/83ff5afa1e9515b9.jpg: 320x416 1 Car, 1 Truck, 38.0ms\n",
      "image 223/400 /home/meth/code/mlopsfin/tracking_pipeline/dataset/images/val/8414bf7ae15d177b.jpg: 416x320 (no detections), 43.1ms\n",
      "image 224/400 /home/meth/code/mlopsfin/tracking_pipeline/dataset/images/val/84c6d23d84b584f1.jpg: 288x416 1 Car, 1 Taxi, 43.9ms\n",
      "image 225/400 /home/meth/code/mlopsfin/tracking_pipeline/dataset/images/val/850781cdf8b8391b.jpg: 320x416 2 Buss, 41.6ms\n",
      "image 226/400 /home/meth/code/mlopsfin/tracking_pipeline/dataset/images/val/879e04c3d89f0130.jpg: 352x416 1 Bus, 46.0ms\n",
      "image 227/400 /home/meth/code/mlopsfin/tracking_pipeline/dataset/images/val/881c75e63c628f10.jpg: 320x416 1 Bus, 41.2ms\n",
      "image 228/400 /home/meth/code/mlopsfin/tracking_pipeline/dataset/images/val/8902db2858a44d40.jpg: 288x416 1 Car, 1 Bus, 41.9ms\n",
      "image 229/400 /home/meth/code/mlopsfin/tracking_pipeline/dataset/images/val/892e053d14402291.jpg: 320x416 3 Cars, 47.5ms\n",
      "image 230/400 /home/meth/code/mlopsfin/tracking_pipeline/dataset/images/val/898d9904b6861588.jpg: 320x416 2 Cars, 1 Taxi, 43.6ms\n",
      "image 231/400 /home/meth/code/mlopsfin/tracking_pipeline/dataset/images/val/8b194f3087e38e4d.jpg: 320x416 3 Cars, 1 Taxi, 2 Buss, 42.7ms\n",
      "image 232/400 /home/meth/code/mlopsfin/tracking_pipeline/dataset/images/val/8bb9499d5b79213a.jpg: 352x416 1 Bus, 48.0ms\n",
      "image 233/400 /home/meth/code/mlopsfin/tracking_pipeline/dataset/images/val/8c9aa8514a8267b9.jpg: 288x416 1 Truck, 43.8ms\n",
      "image 234/400 /home/meth/code/mlopsfin/tracking_pipeline/dataset/images/val/8cbdaa5812685078.jpg: 416x352 1 Bus, 44.1ms\n",
      "image 235/400 /home/meth/code/mlopsfin/tracking_pipeline/dataset/images/val/8ccd0b8464c735f8.jpg: 416x320 1 Truck, 44.3ms\n",
      "image 236/400 /home/meth/code/mlopsfin/tracking_pipeline/dataset/images/val/8cd76cd6b71daabc.jpg: 288x416 1 Car, 44.7ms\n",
      "image 237/400 /home/meth/code/mlopsfin/tracking_pipeline/dataset/images/val/8cefb355c7201b5f.jpg: 416x288 1 Car, 41.0ms\n",
      "image 238/400 /home/meth/code/mlopsfin/tracking_pipeline/dataset/images/val/8d5b29e8bd0c05ce.jpg: 352x416 1 Bus, 45.1ms\n",
      "image 239/400 /home/meth/code/mlopsfin/tracking_pipeline/dataset/images/val/8e0ad03615298922.jpg: 288x416 1 Truck, 43.5ms\n",
      "image 240/400 /home/meth/code/mlopsfin/tracking_pipeline/dataset/images/val/8e7132bac206401a.jpg: 320x416 1 Bus, 44.5ms\n",
      "image 241/400 /home/meth/code/mlopsfin/tracking_pipeline/dataset/images/val/8eca30613b6c0655.jpg: 288x416 (no detections), 39.6ms\n",
      "image 242/400 /home/meth/code/mlopsfin/tracking_pipeline/dataset/images/val/8ef05e11ae221af7.jpg: 288x416 2 Cars, 1 Truck, 42.8ms\n",
      "image 243/400 /home/meth/code/mlopsfin/tracking_pipeline/dataset/images/val/8fad8f780b18f3a4.jpg: 288x416 1 Truck, 41.8ms\n",
      "image 244/400 /home/meth/code/mlopsfin/tracking_pipeline/dataset/images/val/90224ec7b921a2da.jpg: 256x416 1 Truck, 2 Buss, 41.2ms\n",
      "image 245/400 /home/meth/code/mlopsfin/tracking_pipeline/dataset/images/val/91589c8170a19d79.jpg: 288x416 1 Truck, 44.2ms\n",
      "image 246/400 /home/meth/code/mlopsfin/tracking_pipeline/dataset/images/val/925c84e1ec9ca71f.jpg: 320x416 1 Truck, 43.1ms\n",
      "image 247/400 /home/meth/code/mlopsfin/tracking_pipeline/dataset/images/val/92fbf43cc5f6a04f.jpg: 320x416 2 Cars, 46.9ms\n",
      "image 248/400 /home/meth/code/mlopsfin/tracking_pipeline/dataset/images/val/930fcc55c5118146.jpg: 416x416 1 Bus, 54.0ms\n",
      "image 249/400 /home/meth/code/mlopsfin/tracking_pipeline/dataset/images/val/94173949660484da.jpg: 416x320 6 Cars, 46.7ms\n",
      "image 250/400 /home/meth/code/mlopsfin/tracking_pipeline/dataset/images/val/9578bf836f68bb2c.jpg: 288x416 4 Cars, 1 Taxi, 41.5ms\n",
      "image 251/400 /home/meth/code/mlopsfin/tracking_pipeline/dataset/images/val/95f63c9a2441194c.jpg: 320x416 5 Buss, 43.2ms\n",
      "image 252/400 /home/meth/code/mlopsfin/tracking_pipeline/dataset/images/val/95f7a86578123998.jpg: 320x416 1 Car, 1 Truck, 40.1ms\n",
      "image 253/400 /home/meth/code/mlopsfin/tracking_pipeline/dataset/images/val/962fc35e14c700f2.jpg: 288x416 1 Truck, 3 Buss, 48.8ms\n",
      "image 254/400 /home/meth/code/mlopsfin/tracking_pipeline/dataset/images/val/9761b28e3ab24c5c.jpg: 416x320 2 Cars, 1 Truck, 46.6ms\n",
      "image 255/400 /home/meth/code/mlopsfin/tracking_pipeline/dataset/images/val/976bfd6155ef28d9.jpg: 320x416 5 Cars, 45.4ms\n",
      "image 256/400 /home/meth/code/mlopsfin/tracking_pipeline/dataset/images/val/98ce8f19314eb401.jpg: 320x416 1 Bus, 44.1ms\n",
      "image 257/400 /home/meth/code/mlopsfin/tracking_pipeline/dataset/images/val/993b27374f683e88.jpg: 416x416 10 Cars, 55.9ms\n",
      "image 258/400 /home/meth/code/mlopsfin/tracking_pipeline/dataset/images/val/9a505a092a415b6e.jpg: 320x416 2 Buss, 42.9ms\n",
      "image 259/400 /home/meth/code/mlopsfin/tracking_pipeline/dataset/images/val/9aa10c72d3b06a58.jpg: 416x416 4 Cars, 52.4ms\n",
      "image 260/400 /home/meth/code/mlopsfin/tracking_pipeline/dataset/images/val/9b23e12897346c1b.jpg: 352x416 2 Cars, 46.7ms\n",
      "image 261/400 /home/meth/code/mlopsfin/tracking_pipeline/dataset/images/val/9b93aa38d9e88480.jpg: 320x416 1 Truck, 1 Bus, 42.0ms\n",
      "image 262/400 /home/meth/code/mlopsfin/tracking_pipeline/dataset/images/val/9c0bd68f2a02fc05.jpg: 320x416 2 Cars, 2 Taxis, 38.7ms\n",
      "image 263/400 /home/meth/code/mlopsfin/tracking_pipeline/dataset/images/val/9c21a44f825412cd.jpg: 320x416 1 Bus, 42.1ms\n",
      "image 264/400 /home/meth/code/mlopsfin/tracking_pipeline/dataset/images/val/9da2994e92e1ffbd.jpg: 288x416 1 Bus, 41.3ms\n",
      "image 265/400 /home/meth/code/mlopsfin/tracking_pipeline/dataset/images/val/9e741c286a65dfaf.jpg: 160x416 4 Cars, 32.5ms\n",
      "image 266/400 /home/meth/code/mlopsfin/tracking_pipeline/dataset/images/val/9ea5e183e739a450.jpg: 352x416 2 Buss, 46.8ms\n",
      "image 267/400 /home/meth/code/mlopsfin/tracking_pipeline/dataset/images/val/9f6c31f21cf72d73.jpg: 224x416 1 Car, 41.1ms\n",
      "image 268/400 /home/meth/code/mlopsfin/tracking_pipeline/dataset/images/val/a076e6b8f89e8204.jpg: 288x416 3 Buss, 42.8ms\n",
      "image 269/400 /home/meth/code/mlopsfin/tracking_pipeline/dataset/images/val/a0a833c9eae8aada.jpg: 320x416 3 Cars, 44.9ms\n",
      "image 270/400 /home/meth/code/mlopsfin/tracking_pipeline/dataset/images/val/a1041333a14bd698.jpg: 320x416 1 Truck, 44.6ms\n",
      "image 271/400 /home/meth/code/mlopsfin/tracking_pipeline/dataset/images/val/a207aa8728621b38.jpg: 288x416 2 Cars, 42.0ms\n",
      "image 272/400 /home/meth/code/mlopsfin/tracking_pipeline/dataset/images/val/a31464011ad554c0.jpg: 288x416 1 Truck, 44.2ms\n",
      "image 273/400 /home/meth/code/mlopsfin/tracking_pipeline/dataset/images/val/a321eceb3091c996.jpg: 320x416 1 Truck, 46.1ms\n",
      "image 274/400 /home/meth/code/mlopsfin/tracking_pipeline/dataset/images/val/a40cb05959d0f33f.jpg: 320x416 3 Cars, 1 Taxi, 44.8ms\n",
      "image 275/400 /home/meth/code/mlopsfin/tracking_pipeline/dataset/images/val/a5a21b7eb6b33243.jpg: 256x416 3 Trucks, 42.4ms\n",
      "image 276/400 /home/meth/code/mlopsfin/tracking_pipeline/dataset/images/val/a73c79ed55b396f8.jpg: 320x416 5 Cars, 42.9ms\n",
      "image 277/400 /home/meth/code/mlopsfin/tracking_pipeline/dataset/images/val/a749b2c56fc986b0.jpg: 320x416 1 Truck, 45.3ms\n",
      "image 278/400 /home/meth/code/mlopsfin/tracking_pipeline/dataset/images/val/a96d54c50e1b4fae.jpg: 320x416 2 Cars, 45.5ms\n",
      "image 279/400 /home/meth/code/mlopsfin/tracking_pipeline/dataset/images/val/aa02f8f0cf049db8.jpg: 320x416 1 Truck, 42.9ms\n",
      "image 280/400 /home/meth/code/mlopsfin/tracking_pipeline/dataset/images/val/ab2f1755f3b32d1d.jpg: 288x416 1 Truck, 1 Bus, 47.0ms\n",
      "image 281/400 /home/meth/code/mlopsfin/tracking_pipeline/dataset/images/val/ab5f23b36dc55515.jpg: 352x416 3 Cars, 1 Truck, 49.2ms\n",
      "image 282/400 /home/meth/code/mlopsfin/tracking_pipeline/dataset/images/val/ac4427d43ef39e67.jpg: 256x416 (no detections), 43.6ms\n",
      "image 283/400 /home/meth/code/mlopsfin/tracking_pipeline/dataset/images/val/ad6b4c57f86145a1.jpg: 320x416 6 Cars, 44.0ms\n",
      "image 284/400 /home/meth/code/mlopsfin/tracking_pipeline/dataset/images/val/add9d27d1fbe0455.jpg: 288x416 2 Trucks, 36.5ms\n",
      "image 285/400 /home/meth/code/mlopsfin/tracking_pipeline/dataset/images/val/ae6e57c10cc159c0.jpg: 320x416 2 Cars, 1 Bus, 36.7ms\n",
      "image 286/400 /home/meth/code/mlopsfin/tracking_pipeline/dataset/images/val/afd13f1c1e23d6f8.jpg: 288x416 1 Truck, 37.6ms\n",
      "image 287/400 /home/meth/code/mlopsfin/tracking_pipeline/dataset/images/val/aff51754779635ab.jpg: 288x416 1 Bus, 41.8ms\n",
      "image 288/400 /home/meth/code/mlopsfin/tracking_pipeline/dataset/images/val/b0494aae32db8836.jpg: 416x416 6 Cars, 50.9ms\n",
      "image 289/400 /home/meth/code/mlopsfin/tracking_pipeline/dataset/images/val/b054eddb71a9192f.jpg: 320x416 2 Trucks, 45.5ms\n",
      "image 290/400 /home/meth/code/mlopsfin/tracking_pipeline/dataset/images/val/b0982a69574dadba.jpg: 320x416 1 Car, 49.6ms\n",
      "image 291/400 /home/meth/code/mlopsfin/tracking_pipeline/dataset/images/val/b1d960294c7a66f4.jpg: 288x416 4 Cars, 41.7ms\n",
      "image 292/400 /home/meth/code/mlopsfin/tracking_pipeline/dataset/images/val/b23cb25d765f4e3b.jpg: 288x416 1 Car, 42.0ms\n",
      "image 293/400 /home/meth/code/mlopsfin/tracking_pipeline/dataset/images/val/b279f5586fbb8795.jpg: 320x416 6 Cars, 41.9ms\n",
      "image 294/400 /home/meth/code/mlopsfin/tracking_pipeline/dataset/images/val/b2be9fe5c2251959.jpg: 288x416 1 Truck, 41.3ms\n",
      "image 295/400 /home/meth/code/mlopsfin/tracking_pipeline/dataset/images/val/b2f0a8ba366b1e4a.jpg: 288x416 1 Bus, 41.4ms\n",
      "image 296/400 /home/meth/code/mlopsfin/tracking_pipeline/dataset/images/val/b40cb87098d53743.jpg: 416x416 4 Cars, 50.1ms\n",
      "image 297/400 /home/meth/code/mlopsfin/tracking_pipeline/dataset/images/val/b5991912d0eae587.jpg: 288x416 1 Truck, 45.8ms\n",
      "image 298/400 /home/meth/code/mlopsfin/tracking_pipeline/dataset/images/val/b6b8729459a488cf.jpg: 288x416 3 Cars, 1 Bus, 44.8ms\n",
      "image 299/400 /home/meth/code/mlopsfin/tracking_pipeline/dataset/images/val/b6c9c787f7446ca2.jpg: 320x416 2 Cars, 1 Taxi, 47.5ms\n",
      "image 300/400 /home/meth/code/mlopsfin/tracking_pipeline/dataset/images/val/b710a1e3a00ce305.jpg: 320x416 1 Car, 2 Taxis, 45.8ms\n",
      "image 301/400 /home/meth/code/mlopsfin/tracking_pipeline/dataset/images/val/b722b3793b10868d.jpg: 320x416 3 Cars, 47.1ms\n",
      "image 302/400 /home/meth/code/mlopsfin/tracking_pipeline/dataset/images/val/b8dc2d0287ea93bd.jpg: 192x416 1 Truck, 37.4ms\n",
      "image 303/400 /home/meth/code/mlopsfin/tracking_pipeline/dataset/images/val/bada52b940c6d95a.jpg: 256x416 3 Cars, 41.7ms\n",
      "image 304/400 /home/meth/code/mlopsfin/tracking_pipeline/dataset/images/val/bb4dc8863e1e8fb9.jpg: 288x416 1 Bus, 44.2ms\n",
      "image 305/400 /home/meth/code/mlopsfin/tracking_pipeline/dataset/images/val/bc2376fe0744e1e9.jpg: 320x416 1 Truck, 3 Buss, 41.3ms\n",
      "image 306/400 /home/meth/code/mlopsfin/tracking_pipeline/dataset/images/val/bc53c0fdcab4357e.jpg: 288x416 1 Truck, 45.7ms\n",
      "image 307/400 /home/meth/code/mlopsfin/tracking_pipeline/dataset/images/val/bd76b816b0cbad61.jpg: 352x416 1 Car, 1 Truck, 53.0ms\n",
      "image 308/400 /home/meth/code/mlopsfin/tracking_pipeline/dataset/images/val/bdafc3c7b6550cb7.jpg: 288x416 1 Car, 46.6ms\n",
      "image 309/400 /home/meth/code/mlopsfin/tracking_pipeline/dataset/images/val/bdc621ca08501aad.jpg: 320x416 1 Truck, 46.0ms\n",
      "image 310/400 /home/meth/code/mlopsfin/tracking_pipeline/dataset/images/val/bdeeb5044925d9fa.jpg: 128x416 2 Cars, 62.3ms\n",
      "image 311/400 /home/meth/code/mlopsfin/tracking_pipeline/dataset/images/val/bffd4cf5e121527f.jpg: 320x416 1 Car, 45.4ms\n",
      "image 312/400 /home/meth/code/mlopsfin/tracking_pipeline/dataset/images/val/c12bbd2a78e7cd2d.jpg: 320x416 2 Cars, 143.5ms\n",
      "image 313/400 /home/meth/code/mlopsfin/tracking_pipeline/dataset/images/val/c41ef7cba3954682.jpg: 320x416 1 Car, 54.9ms\n",
      "image 314/400 /home/meth/code/mlopsfin/tracking_pipeline/dataset/images/val/c48f089c1886afbe.jpg: 320x416 1 Car, 46.6ms\n",
      "image 315/400 /home/meth/code/mlopsfin/tracking_pipeline/dataset/images/val/c5073f0e08d2f926.jpg: 416x416 2 Cars, 1 Bus, 57.1ms\n",
      "image 316/400 /home/meth/code/mlopsfin/tracking_pipeline/dataset/images/val/c52f3c234389f882.jpg: 320x416 2 Cars, 54.0ms\n",
      "image 317/400 /home/meth/code/mlopsfin/tracking_pipeline/dataset/images/val/c5820a71b262711b.jpg: 320x416 1 Car, 48.5ms\n",
      "image 318/400 /home/meth/code/mlopsfin/tracking_pipeline/dataset/images/val/c6022814e7da8acf.jpg: 288x416 1 Truck, 37.0ms\n",
      "image 319/400 /home/meth/code/mlopsfin/tracking_pipeline/dataset/images/val/c6943d847f34be4c.jpg: 320x416 (no detections), 42.3ms\n",
      "image 320/400 /home/meth/code/mlopsfin/tracking_pipeline/dataset/images/val/c6c3ef8efb122e48.jpg: 320x416 1 Car, 35.4ms\n",
      "image 321/400 /home/meth/code/mlopsfin/tracking_pipeline/dataset/images/val/c71a865ff082ff80.jpg: 288x416 1 Car, 40.1ms\n",
      "image 322/400 /home/meth/code/mlopsfin/tracking_pipeline/dataset/images/val/c7db5fd06a6924e3.jpg: 320x416 1 Car, 38.3ms\n",
      "image 323/400 /home/meth/code/mlopsfin/tracking_pipeline/dataset/images/val/c896fb4027679c9c.jpg: 352x416 1 Truck, 44.1ms\n",
      "image 324/400 /home/meth/code/mlopsfin/tracking_pipeline/dataset/images/val/c8d6988a91c5d14e.jpg: 288x416 1 Truck, 50.3ms\n",
      "image 325/400 /home/meth/code/mlopsfin/tracking_pipeline/dataset/images/val/c9a2632cc76438fd.jpg: 320x416 1 Car, 1 Truck, 42.9ms\n",
      "image 326/400 /home/meth/code/mlopsfin/tracking_pipeline/dataset/images/val/ca6168c8530913f0.jpg: 320x416 4 Cars, 41.7ms\n",
      "image 327/400 /home/meth/code/mlopsfin/tracking_pipeline/dataset/images/val/cb37c61c0742a33e.jpg: 320x416 5 Taxis, 39.1ms\n",
      "image 328/400 /home/meth/code/mlopsfin/tracking_pipeline/dataset/images/val/cc82117ee92f9c3f.jpg: 320x416 5 Cars, 38.3ms\n",
      "image 329/400 /home/meth/code/mlopsfin/tracking_pipeline/dataset/images/val/cd5e8f7a784854bf.jpg: 416x320 1 Truck, 1 Bus, 38.8ms\n",
      "image 330/400 /home/meth/code/mlopsfin/tracking_pipeline/dataset/images/val/cfeb9e74167c6318.jpg: 288x416 1 Car, 46.9ms\n",
      "image 331/400 /home/meth/code/mlopsfin/tracking_pipeline/dataset/images/val/cfed9557f2037e7c.jpg: 288x416 6 Cars, 44.3ms\n",
      "image 332/400 /home/meth/code/mlopsfin/tracking_pipeline/dataset/images/val/d0d94668137b556a.jpg: 320x416 1 Bus, 51.8ms\n",
      "image 333/400 /home/meth/code/mlopsfin/tracking_pipeline/dataset/images/val/d102198e146fe600.jpg: 320x416 1 Bus, 130.1ms\n",
      "image 334/400 /home/meth/code/mlopsfin/tracking_pipeline/dataset/images/val/d19911e8e44ca1cb.jpg: 288x416 2 Cars, 50.4ms\n",
      "image 335/400 /home/meth/code/mlopsfin/tracking_pipeline/dataset/images/val/d1dd66b9b5103b87.jpg: 320x416 3 Cars, 40.7ms\n",
      "image 336/400 /home/meth/code/mlopsfin/tracking_pipeline/dataset/images/val/d20c3a534dbfb229.jpg: 320x416 1 Car, 2 Trucks, 39.0ms\n",
      "image 337/400 /home/meth/code/mlopsfin/tracking_pipeline/dataset/images/val/d233d2ea7d710894.jpg: 288x416 2 Cars, 4 Taxis, 36.1ms\n",
      "image 338/400 /home/meth/code/mlopsfin/tracking_pipeline/dataset/images/val/d3613eeed141cd70.jpg: 320x416 4 Buss, 45.8ms\n",
      "image 339/400 /home/meth/code/mlopsfin/tracking_pipeline/dataset/images/val/d40414324932b1dc.jpg: 320x416 1 Car, 45.3ms\n",
      "image 340/400 /home/meth/code/mlopsfin/tracking_pipeline/dataset/images/val/d4434387cb9d54f4.jpg: 320x416 2 Buss, 45.5ms\n",
      "image 341/400 /home/meth/code/mlopsfin/tracking_pipeline/dataset/images/val/d4b6b9221f549e3d.jpg: 320x416 2 Buss, 50.4ms\n",
      "image 342/400 /home/meth/code/mlopsfin/tracking_pipeline/dataset/images/val/d4c6ca12e685452a.jpg: 320x416 2 Cars, 137.1ms\n",
      "image 343/400 /home/meth/code/mlopsfin/tracking_pipeline/dataset/images/val/d5b8f384f55bc296.jpg: 416x288 1 Car, 1 Taxi, 56.4ms\n",
      "image 344/400 /home/meth/code/mlopsfin/tracking_pipeline/dataset/images/val/d5bbb428901ab0a5.jpg: 352x416 1 Truck, 1 Bus, 45.7ms\n",
      "image 345/400 /home/meth/code/mlopsfin/tracking_pipeline/dataset/images/val/d801710cafe7f2f2.jpg: 416x320 2 Cars, 1 Taxi, 1 Bus, 38.7ms\n",
      "image 346/400 /home/meth/code/mlopsfin/tracking_pipeline/dataset/images/val/d88a5744065667ad.jpg: 320x416 2 Cars, 1 Truck, 38.5ms\n",
      "image 347/400 /home/meth/code/mlopsfin/tracking_pipeline/dataset/images/val/d8dd15c08b62112b.jpg: 288x416 2 Cars, 34.7ms\n",
      "image 348/400 /home/meth/code/mlopsfin/tracking_pipeline/dataset/images/val/d9b855da1c12995e.jpg: 320x416 1 Car, 40.0ms\n",
      "image 349/400 /home/meth/code/mlopsfin/tracking_pipeline/dataset/images/val/d9e16d9a3e369dc5.jpg: 320x416 3 Cars, 1 Taxi, 39.5ms\n",
      "image 350/400 /home/meth/code/mlopsfin/tracking_pipeline/dataset/images/val/da183da625580a76.jpg: 416x320 2 Cars, 42.9ms\n",
      "image 351/400 /home/meth/code/mlopsfin/tracking_pipeline/dataset/images/val/da831266f352bd67.jpg: 288x416 1 Bus, 40.0ms\n",
      "image 352/400 /home/meth/code/mlopsfin/tracking_pipeline/dataset/images/val/db2f2ffb62a409fe.jpg: 320x416 1 Bus, 51.7ms\n",
      "image 353/400 /home/meth/code/mlopsfin/tracking_pipeline/dataset/images/val/db4116d81366731c.jpg: 320x416 1 Taxi, 43.1ms\n",
      "image 354/400 /home/meth/code/mlopsfin/tracking_pipeline/dataset/images/val/db8c5744c6b61f60.jpg: 288x416 5 Cars, 45.4ms\n",
      "image 355/400 /home/meth/code/mlopsfin/tracking_pipeline/dataset/images/val/dc84799a33cc65ff.jpg: 288x416 1 Bus, 40.4ms\n",
      "image 356/400 /home/meth/code/mlopsfin/tracking_pipeline/dataset/images/val/dc8afc8841f193ad.jpg: 288x416 1 Bus, 34.8ms\n",
      "image 357/400 /home/meth/code/mlopsfin/tracking_pipeline/dataset/images/val/dce367cecc75639c.jpg: 416x416 3 Cars, 1 Taxi, 50.3ms\n",
      "image 358/400 /home/meth/code/mlopsfin/tracking_pipeline/dataset/images/val/dd6b81d7730dec28.jpg: 320x416 2 Cars, 1 Taxi, 41.2ms\n",
      "image 359/400 /home/meth/code/mlopsfin/tracking_pipeline/dataset/images/val/dd962534b7fbbc54.jpg: 288x416 5 Cars, 44.3ms\n",
      "image 360/400 /home/meth/code/mlopsfin/tracking_pipeline/dataset/images/val/de1287bb2ceadec4.jpg: 288x416 2 Cars, 1 Bus, 44.2ms\n",
      "image 361/400 /home/meth/code/mlopsfin/tracking_pipeline/dataset/images/val/de39fa67bd4485f7.jpg: 416x352 1 Bus, 47.6ms\n",
      "image 362/400 /home/meth/code/mlopsfin/tracking_pipeline/dataset/images/val/de7de746a027c655.jpg: 224x416 2 Cars, 40.7ms\n",
      "image 363/400 /home/meth/code/mlopsfin/tracking_pipeline/dataset/images/val/def5ca6e68a647eb.jpg: 320x416 3 Buss, 47.6ms\n",
      "image 364/400 /home/meth/code/mlopsfin/tracking_pipeline/dataset/images/val/df3ba1616886066b.jpg: 288x416 4 Buss, 46.6ms\n",
      "image 365/400 /home/meth/code/mlopsfin/tracking_pipeline/dataset/images/val/dfa9e7f8d94579bc.jpg: 320x416 4 Cars, 2 Taxis, 45.6ms\n",
      "image 366/400 /home/meth/code/mlopsfin/tracking_pipeline/dataset/images/val/e0e8ea08c6df6823.jpg: 288x416 3 Cars, 3 Taxis, 42.2ms\n",
      "image 367/400 /home/meth/code/mlopsfin/tracking_pipeline/dataset/images/val/e10434deb35879ce.jpg: 128x416 5 Buss, 27.8ms\n",
      "image 368/400 /home/meth/code/mlopsfin/tracking_pipeline/dataset/images/val/e2cf533cc3114486.jpg: 320x416 1 Bus, 43.8ms\n",
      "image 369/400 /home/meth/code/mlopsfin/tracking_pipeline/dataset/images/val/e4f70755836de7c3.jpg: 320x416 2 Cars, 42.5ms\n",
      "image 370/400 /home/meth/code/mlopsfin/tracking_pipeline/dataset/images/val/e500630f4e5108a8.jpg: 320x416 7 Cars, 40.3ms\n",
      "image 371/400 /home/meth/code/mlopsfin/tracking_pipeline/dataset/images/val/e56701f96e4a9488.jpg: 256x416 1 Truck, 1 Bus, 40.6ms\n",
      "image 372/400 /home/meth/code/mlopsfin/tracking_pipeline/dataset/images/val/e649814a71270210.jpg: 288x416 2 Cars, 40.0ms\n",
      "image 373/400 /home/meth/code/mlopsfin/tracking_pipeline/dataset/images/val/e77369322bd78e1d.jpg: 416x320 3 Cars, 41.6ms\n",
      "image 374/400 /home/meth/code/mlopsfin/tracking_pipeline/dataset/images/val/e85a062c69af036d.jpg: 288x416 2 Trucks, 41.1ms\n",
      "image 375/400 /home/meth/code/mlopsfin/tracking_pipeline/dataset/images/val/e86488c0a3e2708e.jpg: 416x416 1 Car, 1 Bus, 49.8ms\n",
      "image 376/400 /home/meth/code/mlopsfin/tracking_pipeline/dataset/images/val/e911abb03b20c146.jpg: 320x416 1 Truck, 47.1ms\n",
      "image 377/400 /home/meth/code/mlopsfin/tracking_pipeline/dataset/images/val/eb34a38e10f395b4.jpg: 320x416 5 Cars, 5 Taxis, 46.6ms\n",
      "image 378/400 /home/meth/code/mlopsfin/tracking_pipeline/dataset/images/val/ecefdd1dede4f4cd.jpg: 320x416 2 Cars, 1 Taxi, 38.7ms\n",
      "image 379/400 /home/meth/code/mlopsfin/tracking_pipeline/dataset/images/val/ee612aa09986522f.jpg: 288x416 1 Bus, 44.3ms\n",
      "image 380/400 /home/meth/code/mlopsfin/tracking_pipeline/dataset/images/val/eef2175613397537.jpg: 288x416 1 Truck, 41.7ms\n",
      "image 381/400 /home/meth/code/mlopsfin/tracking_pipeline/dataset/images/val/ef579ead6374cb71.jpg: 256x416 1 Car, 1 Taxi, 1 Bus, 43.0ms\n",
      "image 382/400 /home/meth/code/mlopsfin/tracking_pipeline/dataset/images/val/f00b0a811802bdcb.jpg: 256x416 1 Car, 41.1ms\n",
      "image 383/400 /home/meth/code/mlopsfin/tracking_pipeline/dataset/images/val/f0eac59e740a6c0c.jpg: 384x416 2 Buss, 82.3ms\n",
      "image 384/400 /home/meth/code/mlopsfin/tracking_pipeline/dataset/images/val/f10fc320f63e3adc.jpg: 416x320 1 Taxi, 45.2ms\n",
      "image 385/400 /home/meth/code/mlopsfin/tracking_pipeline/dataset/images/val/f14faed5ca94bd01.jpg: 288x416 5 Buss, 45.8ms\n",
      "image 386/400 /home/meth/code/mlopsfin/tracking_pipeline/dataset/images/val/f1f82b01d3210d7d.jpg: 256x416 1 Truck, 40.3ms\n",
      "image 387/400 /home/meth/code/mlopsfin/tracking_pipeline/dataset/images/val/f2d09d13fdbc7a11.jpg: 320x416 3 Buss, 44.9ms\n",
      "image 388/400 /home/meth/code/mlopsfin/tracking_pipeline/dataset/images/val/f329cb9e4c415439.jpg: 288x416 2 Taxis, 41.2ms\n",
      "image 389/400 /home/meth/code/mlopsfin/tracking_pipeline/dataset/images/val/f3913c225f6d3749.jpg: 288x416 1 Truck, 43.3ms\n",
      "image 390/400 /home/meth/code/mlopsfin/tracking_pipeline/dataset/images/val/f3da01311a7cd301.jpg: 320x416 8 Cars, 1 Taxi, 1 Bus, 42.0ms\n",
      "image 391/400 /home/meth/code/mlopsfin/tracking_pipeline/dataset/images/val/f40cce4656ade7aa.jpg: 320x416 1 Truck, 43.0ms\n",
      "image 392/400 /home/meth/code/mlopsfin/tracking_pipeline/dataset/images/val/f4d257df0da45551.jpg: 288x416 2 Cars, 44.5ms\n",
      "image 393/400 /home/meth/code/mlopsfin/tracking_pipeline/dataset/images/val/f4df9612359d4b46.jpg: 416x416 2 Cars, 1 Taxi, 49.6ms\n",
      "image 394/400 /home/meth/code/mlopsfin/tracking_pipeline/dataset/images/val/f6f670a88b91b3ca.jpg: 320x416 1 Truck, 42.9ms\n",
      "image 395/400 /home/meth/code/mlopsfin/tracking_pipeline/dataset/images/val/f8d4e352bc2fdd3d.jpg: 320x416 3 Cars, 46.8ms\n",
      "image 396/400 /home/meth/code/mlopsfin/tracking_pipeline/dataset/images/val/f9761c6da93155e2.jpg: 320x416 3 Cars, 44.7ms\n",
      "image 397/400 /home/meth/code/mlopsfin/tracking_pipeline/dataset/images/val/fa762eabec3915bc.jpg: 288x416 2 Cars, 1 Taxi, 1 Truck, 54.4ms\n",
      "image 398/400 /home/meth/code/mlopsfin/tracking_pipeline/dataset/images/val/fbed1fe16f22ebfa.jpg: 288x416 1 Car, 2 Taxis, 43.1ms\n",
      "image 399/400 /home/meth/code/mlopsfin/tracking_pipeline/dataset/images/val/fc2c07ade255900f.jpg: 320x416 2 Cars, 1 Taxi, 46.6ms\n",
      "image 400/400 /home/meth/code/mlopsfin/tracking_pipeline/dataset/images/val/fd3b3f5cb8d15319.jpg: 160x416 1 Car, 59.6ms\n",
      "Speed: 1.7ms preprocess, 48.1ms inference, 1.3ms postprocess per image at shape (1, 3, 160, 416)\n",
      "Results saved to \u001b[1mruns/detect/train_hyt2\u001b[0m\n"
     ]
    }
   ],
   "source": [
    "results = model.predict(\n",
    "    source=\"dataset/images/val\",\n",
    "    save=True\n",
    ")\n"
   ]
  },
  {
   "cell_type": "markdown",
   "id": "8ae13f4e",
   "metadata": {},
   "source": [
    "Logging to Mlflow"
   ]
  },
  {
   "cell_type": "code",
   "execution_count": 14,
   "id": "1dbe221b",
   "metadata": {},
   "outputs": [
    {
     "name": "stderr",
     "output_type": "stream",
     "text": [
      "2025/05/04 21:10:55 INFO mlflow.store.db.utils: Creating initial MLflow database tables...\n",
      "2025/05/04 21:10:55 INFO mlflow.store.db.utils: Updating database tables\n",
      "INFO  [alembic.runtime.migration] Context impl SQLiteImpl.\n",
      "INFO  [alembic.runtime.migration] Will assume non-transactional DDL.\n",
      "INFO  [alembic.runtime.migration] Running upgrade  -> 451aebb31d03, add metric step\n",
      "INFO  [alembic.runtime.migration] Running upgrade 451aebb31d03 -> 90e64c465722, migrate user column to tags\n",
      "INFO  [alembic.runtime.migration] Running upgrade 90e64c465722 -> 181f10493468, allow nulls for metric values\n",
      "INFO  [alembic.runtime.migration] Running upgrade 181f10493468 -> df50e92ffc5e, Add Experiment Tags Table\n",
      "INFO  [alembic.runtime.migration] Running upgrade df50e92ffc5e -> 7ac759974ad8, Update run tags with larger limit\n",
      "INFO  [alembic.runtime.migration] Running upgrade 7ac759974ad8 -> 89d4b8295536, create latest metrics table\n",
      "INFO  [89d4b8295536_create_latest_metrics_table_py] Migration complete!\n",
      "INFO  [alembic.runtime.migration] Running upgrade 89d4b8295536 -> 2b4d017a5e9b, add model registry tables to db\n",
      "INFO  [2b4d017a5e9b_add_model_registry_tables_to_db_py] Adding registered_models and model_versions tables to database.\n",
      "INFO  [2b4d017a5e9b_add_model_registry_tables_to_db_py] Migration complete!\n",
      "INFO  [alembic.runtime.migration] Running upgrade 2b4d017a5e9b -> cfd24bdc0731, Update run status constraint with killed\n",
      "INFO  [alembic.runtime.migration] Running upgrade cfd24bdc0731 -> 0a8213491aaa, drop_duplicate_killed_constraint\n",
      "INFO  [alembic.runtime.migration] Running upgrade 0a8213491aaa -> 728d730b5ebd, add registered model tags table\n",
      "INFO  [alembic.runtime.migration] Running upgrade 728d730b5ebd -> 27a6a02d2cf1, add model version tags table\n",
      "INFO  [alembic.runtime.migration] Running upgrade 27a6a02d2cf1 -> 84291f40a231, add run_link to model_version\n",
      "INFO  [alembic.runtime.migration] Running upgrade 84291f40a231 -> a8c4a736bde6, allow nulls for run_id\n",
      "INFO  [alembic.runtime.migration] Running upgrade a8c4a736bde6 -> 39d1c3be5f05, add_is_nan_constraint_for_metrics_tables_if_necessary\n",
      "INFO  [alembic.runtime.migration] Running upgrade 39d1c3be5f05 -> c48cb773bb87, reset_default_value_for_is_nan_in_metrics_table_for_mysql\n",
      "INFO  [alembic.runtime.migration] Running upgrade c48cb773bb87 -> bd07f7e963c5, create index on run_uuid\n",
      "INFO  [alembic.runtime.migration] Running upgrade bd07f7e963c5 -> 0c779009ac13, add deleted_time field to runs table\n",
      "INFO  [alembic.runtime.migration] Running upgrade 0c779009ac13 -> cc1f77228345, change param value length to 500\n",
      "INFO  [alembic.runtime.migration] Running upgrade cc1f77228345 -> 97727af70f4d, Add creation_time and last_update_time to experiments table\n",
      "INFO  [alembic.runtime.migration] Running upgrade 97727af70f4d -> 3500859a5d39, Add Model Aliases table\n",
      "INFO  [alembic.runtime.migration] Running upgrade 3500859a5d39 -> 7f2a7d5fae7d, add datasets inputs input_tags tables\n",
      "INFO  [alembic.runtime.migration] Running upgrade 7f2a7d5fae7d -> 2d6e25af4d3e, increase max param val length from 500 to 8000\n",
      "INFO  [alembic.runtime.migration] Running upgrade 2d6e25af4d3e -> acf3f17fdcc7, add storage location field to model versions\n",
      "INFO  [alembic.runtime.migration] Running upgrade acf3f17fdcc7 -> 867495a8f9d4, add trace tables\n",
      "INFO  [alembic.runtime.migration] Running upgrade 867495a8f9d4 -> 5b0e9adcef9c, add cascade deletion to trace tables foreign keys\n",
      "INFO  [alembic.runtime.migration] Running upgrade 5b0e9adcef9c -> 4465047574b1, increase max dataset schema size\n",
      "INFO  [alembic.runtime.migration] Running upgrade 4465047574b1 -> f5a4f2784254, increase run tag value limit to 8000\n",
      "INFO  [alembic.runtime.migration] Running upgrade f5a4f2784254 -> 0584bdc529eb, add cascading deletion to datasets from experiments\n",
      "INFO  [alembic.runtime.migration] Context impl SQLiteImpl.\n",
      "INFO  [alembic.runtime.migration] Will assume non-transactional DDL.\n",
      "2025/05/04 21:10:56 INFO mlflow.tracking.fluent: Experiment with name 'YOLOv11_Experiments' does not exist. Creating a new experiment.\n"
     ]
    }
   ],
   "source": [
    "train_dir = \"runs/detect/train_hyt\"\n",
    "model_path = \"runs/detect/train_hyt/weights/best.pt\"\n",
    "results_path = \"runs/detect/train_hyt/results.csv\"\n",
    "\n",
    "\n",
    "#Tracking \n",
    "mlflow.set_tracking_uri(\"sqlite:///mlruns.db\")\n",
    "mlflow.set_experiment(\"YOLOv11_Experiments\")\n",
    "\n",
    "if not os.path.exists(results_path):\n",
    "    raise FileNotFoundError(f\"File {results_path} does not exist. Please run the training step first.\")\n",
    "\n",
    "\n",
    "results_df = pd.read_csv(results_path)\n",
    "metrics_from_csv = {\n",
    "    \"mAP50\": results_df[\"metrics/mAP50(B)\"].iloc[-1],\n",
    "    \"mAP50-95\": results_df[\"metrics/mAP50-95(B)\"].iloc[-1],\n",
    "    \"train_box_loss\": results_df[\"train/box_loss\"].iloc[-1],\n",
    "    \"val_box_loss\": results_df[\"val/box_loss\"].iloc[-1]\n",
    "}"
   ]
  },
  {
   "cell_type": "code",
   "execution_count": 15,
   "id": "3689fb26",
   "metadata": {},
   "outputs": [
    {
     "data": {
      "text/plain": [
       "'/home/meth/code/mlopsfin/tracking_pipeline/dataset/data.yaml'"
      ]
     },
     "execution_count": 15,
     "metadata": {},
     "output_type": "execute_result"
    }
   ],
   "source": [
    "data_yaml = os.path.join(dataset_dir, \"data.yaml\")\n",
    "data_yaml "
   ]
  },
  {
   "cell_type": "code",
   "execution_count": 16,
   "id": "55cfcaf4",
   "metadata": {},
   "outputs": [
    {
     "name": "stdout",
     "output_type": "stream",
     "text": [
      "Logged training plots to MLflow\n",
      "Logged metrics to MLflow\n"
     ]
    },
    {
     "name": "stderr",
     "output_type": "stream",
     "text": [
      "Successfully registered model 'YOLOv11_Model'.\n",
      "Created version '1' of model 'YOLOv11_Model'.\n"
     ]
    },
    {
     "name": "stdout",
     "output_type": "stream",
     "text": [
      "The model has been registered with version 1\n",
      "Metrics from results.csv:\n",
      "{'mAP50': np.float64(0.63637), 'mAP50-95': np.float64(0.44316), 'train_box_loss': np.float64(1.08067), 'val_box_loss': np.float64(1.13587)}\n"
     ]
    }
   ],
   "source": [
    "with mlflow.start_run(run_name=\"YOLOv11_Training_HyT\") as run:\n",
    "    # Log params\n",
    "    params = {\n",
    "        \"epochs\": 5,\n",
    "        \"imgsz\": 416,\n",
    "        \"batch\": 16,\n",
    "        \"optimizer\": \"AdamW\",\n",
    "        \"lr0\": 0.0005\n",
    "    }\n",
    "    mlflow.log_params(params)\n",
    "\n",
    "    # Log artifacts\n",
    "    mlflow.log_artifact(data_yaml)\n",
    "    mlflow.log_artifact(train_dir)\n",
    "    mlflow.log_artifact(model_path)\n",
    "    mlflow.log_artifact(results_path)\n",
    "    \n",
    "    # Log key training plots\n",
    "    plot_dir = \"runs/detect/train_hyt\"\n",
    "    plot_files = [\n",
    "        \"results.png\",\n",
    "        \"confusion_matrix.png\",\n",
    "        \"confusion_matrix_normalized.png\",\n",
    "        \"F1_curve.png\",\n",
    "        \"P_curve.png\",\n",
    "        \"R_curve.png\",\n",
    "        \"PR_curve.png\",\n",
    "        \"labels.jpg\",\n",
    "        \"labels_correlogram.jpg\"\n",
    "    ]\n",
    "    for plot_file in plot_files:\n",
    "        plot_path = os.path.join(plot_dir, plot_file)\n",
    "        if os.path.exists(plot_path):\n",
    "            mlflow.log_artifact(plot_path, artifact_path=\"training_plots\")\n",
    "    \n",
    "    print(\"Logged training plots to MLflow\")\n",
    "\n",
    "    # Log metrics from results.csv\n",
    "    mlflow.log_metrics(metrics_from_csv)\n",
    "    print(\"Logged metrics to MLflow\")\n",
    "\n",
    "    # Manual signature logging\n",
    "    input_schema = Schema([TensorSpec(np.dtype(np.float32), (-1, 3, 640, 640))])\n",
    "    output_schema = Schema([TensorSpec(np.dtype(np.float32), (-1, -1))])\n",
    "    signature = ModelSignature(inputs=input_schema, outputs=output_schema)\n",
    "\n",
    "    # Log best model \n",
    "    mlflow.log_artifact(model_path)\n",
    "\n",
    "    # Register model\n",
    "    model_uri = f\"runs:/{run.info.run_id}/model\"\n",
    "    model_name = \"YOLOv11_Model\"\n",
    "    result = mlflow.register_model(model_uri, model_name)\n",
    "    print(f\"The model has been registered with version {result.version}\")\n",
    "    \n",
    "    #Tagging\n",
    "    client = MlflowClient()\n",
    "    tags = {\n",
    "        \"model_type\": \"YOLOv11\",\n",
    "        \"task\": \"vehicle_detection\",\n",
    "        \"imgsz\": \"416\",\n",
    "        \"epochs\": \"5\",\n",
    "        \"optimizer\": \"AdamW\"\n",
    "    }\n",
    "    for key, value in tags.items():\n",
    "        client.set_model_version_tag(model_name, result.version, key, value)\n",
    "    client.set_registered_model_tag(model_name, \"description\", \"YOLOv11 model for vehicle detection\")\n",
    "\n",
    "    # Moving to Stage production if mAP50 >= 0.7\n",
    "    mAP50 = metrics_from_csv[\"mAP50\"]\n",
    "    if mAP50 >= 0.7:\n",
    "        client.transition_model_version_stage(\n",
    "            name=model_name,\n",
    "            version=result.version,\n",
    "            stage=\"Production\"\n",
    "        )\n",
    "        print(f\"Model version {result.version} transitioned to Production stage\")\n",
    "\n",
    "# Print results\n",
    "print(\"Metrics from results.csv:\")\n",
    "print(metrics_from_csv)\n",
    "    \n",
    "    \n",
    "    "
   ]
  },
  {
   "cell_type": "code",
   "execution_count": 17,
   "id": "83e17e0e",
   "metadata": {},
   "outputs": [
    {
     "name": "stdout",
     "output_type": "stream",
     "text": [
      "[2025-05-04 21:11:15 +0700] [97122] [INFO] Starting gunicorn 23.0.0\n",
      "[2025-05-04 21:11:15 +0700] [97122] [INFO] Listening at: http://127.0.0.1:5000 (97122)\n",
      "[2025-05-04 21:11:15 +0700] [97122] [INFO] Using worker: sync\n",
      "[2025-05-04 21:11:15 +0700] [97123] [INFO] Booting worker with pid: 97123\n",
      "[2025-05-04 21:11:15 +0700] [97124] [INFO] Booting worker with pid: 97124\n",
      "[2025-05-04 21:11:15 +0700] [97125] [INFO] Booting worker with pid: 97125\n",
      "[2025-05-04 21:11:15 +0700] [97126] [INFO] Booting worker with pid: 97126\n",
      "[2025-05-04 21:11:45 +0700] [97122] [INFO] Handling signal: int\n",
      "^C\n",
      "\n",
      "Aborted!\n",
      "[2025-05-04 21:11:45 +0700] [97125] [INFO] Worker exiting (pid: 97125)\n",
      "[2025-05-04 21:11:45 +0700] [97126] [INFO] Worker exiting (pid: 97126)\n",
      "[2025-05-04 21:11:45 +0700] [97124] [INFO] Worker exiting (pid: 97124)\n",
      "[2025-05-04 21:11:45 +0700] [97123] [INFO] Worker exiting (pid: 97123)\n"
     ]
    }
   ],
   "source": [
    "!mlflow ui --backend-store-uri sqlite:///mlruns.db "
   ]
  },
  {
   "cell_type": "code",
   "execution_count": null,
   "id": "55ecc889",
   "metadata": {},
   "outputs": [],
   "source": []
  }
 ],
 "metadata": {
  "kernelspec": {
   "display_name": "thao",
   "language": "python",
   "name": "python3"
  },
  "language_info": {
   "codemirror_mode": {
    "name": "ipython",
    "version": 3
   },
   "file_extension": ".py",
   "mimetype": "text/x-python",
   "name": "python",
   "nbconvert_exporter": "python",
   "pygments_lexer": "ipython3",
   "version": "3.10.16"
  }
 },
 "nbformat": 4,
 "nbformat_minor": 5
}
